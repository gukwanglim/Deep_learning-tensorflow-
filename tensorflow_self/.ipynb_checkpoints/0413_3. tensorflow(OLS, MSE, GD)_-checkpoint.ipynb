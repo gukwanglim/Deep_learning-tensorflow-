{
 "cells": [
  {
   "cell_type": "code",
   "execution_count": 1,
   "id": "28264f5f",
   "metadata": {},
   "outputs": [],
   "source": [
    "import numpy as np\n",
    "import matplotlib.pyplot as plt"
   ]
  },
  {
   "cell_type": "markdown",
   "id": "b7fde7fc",
   "metadata": {},
   "source": [
    "# 최소 제곱 추정법 (OLS) \n",
    "\n",
    "교재 61p"
   ]
  },
  {
   "cell_type": "code",
   "execution_count": 13,
   "id": "b3153832",
   "metadata": {
    "scrolled": true
   },
   "outputs": [
    {
     "data": {
      "image/png": "[encoded data removed]",
      "text/plain": [
       "<Figure size 432x288 with 1 Axes>"
      ]
     },
     "metadata": {
      "needs_background": "light"
     },
     "output_type": "display_data"
    }
   ],
   "source": [
    "## OLS 추정량(최소제곱추정기법) 시각자료 (% 실행 및 삭제 금지 %)"
   ]
  },
  {
   "cell_type": "markdown",
   "id": "d3b652ac",
   "metadata": {},
   "source": [
    "$$ min arg \\sum_{i=1}^n e_i^2 = min arg \\sum_{i=1}^n{(y_i - \\hat{y_i})^2} = \\sum_{i=1}^n{(y_i - (w_0 + w_1x_i))^2} $$"
   ]
  },
  {
   "cell_type": "markdown",
   "id": "37656e94",
   "metadata": {},
   "source": [
    "$$ Loss function(오류 함수) => J(w_0, w_1) = min arg \\sum_{i=1}^n{(y_i - (w_0 - w_1x_i))^2} $$"
   ]
  },
  {
   "cell_type": "markdown",
   "id": "ad0f8505",
   "metadata": {},
   "source": [
    "1. $ \\frac{dJ(w_0, w_1)}{dw_1} = 0 일 때 $\n",
    "\n",
    "$$ \\sum_{i=1}^n {2(y_i - (w_0 - w_1x_i))^2 * (-x_i)} = 0 $$"
   ]
  },
  {
   "cell_type": "markdown",
   "id": "cf6f2ff7",
   "metadata": {},
   "source": [
    "2. $ \\frac{dJ(w_0, w_1)}{dw_0} = 0 일 때 $\n",
    "\n",
    "$$ \\sum_{i=1}^n{2(y_i - (w_0 - w_1x_i))^2 * (-1)} = 0 $$"
   ]
  },
  {
   "cell_type": "markdown",
   "id": "ade9eccc",
   "metadata": {},
   "source": [
    "여기서 2번 일 경우에\n",
    "\n",
    "$$ nw_0 = \\sum_{i=1}^ny_i - w_1\\sum_{i=1}^nx_i $$\n",
    "\n",
    "$$ w_0 = \\frac{\\sum_{i=1}^ny_i}{n} - w_1\\frac{\\sum_{i=1}^nx_i}{n} $$"
   ]
  },
  {
   "cell_type": "markdown",
   "id": "70b6cc79",
   "metadata": {},
   "source": [
    "최종적으로\n",
    "\n",
    "$$ 절편 : w_0 = \\bar{y} - w_0\\bar{x} $$\n",
    "\n",
    "$$ 기울기 w_1 = \\frac{\\sum_{i=1}^n{(x_i - \\bar{x})(y_i - \\bar{y})}}{\\sum_{i=1}^n{(x_i - \\bar{x})^2}} $$\n",
    "\n",
    "* $ \\sum_{i=1}^n{(x_i - \\bar{x})(y_i - \\bar{y})} = S_{xy} $\n",
    "* $\\sum_{i=1}^n{(x_i - \\bar{x})^2} = S_{xx} $"
   ]
  },
  {
   "cell_type": "markdown",
   "id": "b8de3dbc",
   "metadata": {},
   "source": [
    "반복이 너무 길 경우 이런 식으로 표현할수도 있다.\n",
    "\n",
    "$$ \\hat\\beta = (X'X)X^{-1}y $$\n",
    "\n",
    "여기서 $ X' $은 전치행렬."
   ]
  },
  {
   "cell_type": "code",
   "execution_count": 2,
   "id": "ad52b793",
   "metadata": {},
   "outputs": [
    {
     "name": "stdout",
     "output_type": "stream",
     "text": [
      "[2 4 6 8]\n"
     ]
    }
   ],
   "source": [
    "x = np.arange(2, 10, 2)\n",
    "y = np.array([81, 93, 91, 97])\n",
    "\n",
    "print(x)"
   ]
  },
  {
   "cell_type": "code",
   "execution_count": 3,
   "id": "93431b55",
   "metadata": {},
   "outputs": [
    {
     "data": {
      "image/png": "[encoded data removed]",
      "text/plain": [
       "<Figure size 432x288 with 1 Axes>"
      ]
     },
     "metadata": {
      "needs_background": "light"
     },
     "output_type": "display_data"
    }
   ],
   "source": [
    "plt.scatter(x, y, s = 100)\n",
    "plt.show()"
   ]
  },
  {
   "cell_type": "code",
   "execution_count": 4,
   "id": "3ac261a0",
   "metadata": {},
   "outputs": [
    {
     "name": "stdout",
     "output_type": "stream",
     "text": [
      "x mean = 5.0\n",
      "y mean = 90.5\n"
     ]
    }
   ],
   "source": [
    "mx = np.mean(x)\n",
    "my = np.mean(y)\n",
    "\n",
    "print(f'x mean = {mx}')\n",
    "print(f'y mean = {my}')"
   ]
  },
  {
   "cell_type": "code",
   "execution_count": 5,
   "id": "36f786cf",
   "metadata": {
    "scrolled": true
   },
   "outputs": [
    {
     "name": "stdout",
     "output_type": "stream",
     "text": [
      "9.0\n",
      "1.0\n",
      "1.0\n",
      "9.0\n"
     ]
    }
   ],
   "source": [
    "for i in x:\n",
    "    print((i - mx) ** 2)"
   ]
  },
  {
   "cell_type": "code",
   "execution_count": 6,
   "id": "1676056c",
   "metadata": {},
   "outputs": [
    {
     "name": "stdout",
     "output_type": "stream",
     "text": [
      "20.0\n",
      "46.0\n"
     ]
    }
   ],
   "source": [
    "Sxx = np.sum([(i - mx) ** 2 for i in x])\n",
    "Sxy = np.sum([(i - mx) * (j - my) for i, j in zip(x, y)])\n",
    "\n",
    "print(Sxx)\n",
    "print(Sxy)"
   ]
  },
  {
   "cell_type": "markdown",
   "id": "4f4c8eb4",
   "metadata": {},
   "source": [
    "## 기울기, 절편"
   ]
  },
  {
   "cell_type": "code",
   "execution_count": 7,
   "id": "03ac3473",
   "metadata": {},
   "outputs": [
    {
     "name": "stdout",
     "output_type": "stream",
     "text": [
      "기울기 =  2.3\n",
      "절편 =  79.0\n"
     ]
    }
   ],
   "source": [
    "slope = Sxy / Sxx\n",
    "intercept = my - slope * mx\n",
    "\n",
    "print('기울기 = ', slope)\n",
    "print('절편 = ', intercept)"
   ]
  },
  {
   "cell_type": "code",
   "execution_count": 8,
   "id": "1e88f750",
   "metadata": {},
   "outputs": [
    {
     "name": "stdout",
     "output_type": "stream",
     "text": [
      "[2 3 4 5 6 7 8]\n",
      "[83.6 85.9 88.2 90.5 92.8 95.1 97.4]\n"
     ]
    },
    {
     "data": {
      "image/png": "[encoded data removed]",
      "text/plain": [
       "<Figure size 432x288 with 1 Axes>"
      ]
     },
     "metadata": {
      "needs_background": "light"
     },
     "output_type": "display_data"
    }
   ],
   "source": [
    "## OLS 추정량(최소제곱추정기법)\n",
    "\n",
    "x_ = np.arange(2, 9)\n",
    "y_hat = intercept + slope * x_\n",
    "print(x_)\n",
    "print(y_hat)\n",
    "\n",
    "plt.scatter(x, y, s = 200)\n",
    "plt.plot(x_, y_hat, c = 'red')\n",
    "plt.show()"
   ]
  },
  {
   "cell_type": "markdown",
   "id": "5ab98700",
   "metadata": {},
   "source": [
    "# 평균 제곱 오차 (MSE)\n",
    "\n",
    "교재 65p"
   ]
  },
  {
   "cell_type": "markdown",
   "id": "f307ef2f",
   "metadata": {},
   "source": [
    "$$ 평균 제곱 오차(MSE) = \\frac{1}{n}\\sum_{i=1}^n{(y_i - \\hat{y_i})^2} $$"
   ]
  },
  {
   "cell_type": "code",
   "execution_count": 9,
   "id": "93b27a79",
   "metadata": {},
   "outputs": [
    {
     "name": "stdout",
     "output_type": "stream",
     "text": [
      "81 83.6\n",
      "93 88.2\n",
      "91 92.8\n",
      "97 97.4\n",
      "\n",
      "mse =  8.299999999999985\n"
     ]
    }
   ],
   "source": [
    "mse = 0\n",
    "\n",
    "for i, j in zip(x, y):\n",
    "    \n",
    "    predicted = intercept + slope * i\n",
    "    print(j, predicted)\n",
    "    \n",
    "    mse += (j - predicted) ** 2\n",
    "    \n",
    "print()\n",
    "print('mse = ', mse / len(x))"
   ]
  },
  {
   "cell_type": "code",
   "execution_count": null,
   "id": "05849f73",
   "metadata": {},
   "outputs": [],
   "source": []
  },
  {
   "cell_type": "code",
   "execution_count": 10,
   "id": "00238306",
   "metadata": {},
   "outputs": [],
   "source": [
    "fake_a_b = [3, 76]"
   ]
  },
  {
   "cell_type": "code",
   "execution_count": 11,
   "id": "d05006ae",
   "metadata": {},
   "outputs": [
    {
     "name": "stdout",
     "output_type": "stream",
     "text": [
      "공부한 시간 = 2, 실제 점수 = 81, 예측 점수 = 82\n",
      "공부한 시간 = 4, 실제 점수 = 93, 예측 점수 = 88\n",
      "공부한 시간 = 6, 실제 점수 = 91, 예측 점수 = 94\n",
      "공부한 시간 = 8, 실제 점수 = 97, 예측 점수 = 100\n",
      "\n",
      "mse 최종값 :  11.0\n"
     ]
    }
   ],
   "source": [
    "data = [[2, 81], [4, 93], [6, 91], [8, 97]]\n",
    "\n",
    "x = [i[0] for i in data]\n",
    "y = [i[1] for i in data]\n",
    "\n",
    "\n",
    "def predict(x):\n",
    "    return fake_a_b[0]*x + fake_a_b[1]\n",
    "\n",
    "def mse(y, y_hat):\n",
    "    return ((y - y_hat) ** 2).mean()\n",
    "\n",
    "def mse_val(y, predict_result):\n",
    "    return mse(np.array(y), np.array(predict_result))\n",
    "\n",
    "\n",
    "predict_result = []\n",
    "\n",
    "for i in range(len(x)):\n",
    "    predict_result.append(predict(x[i]))\n",
    "    print('공부한 시간 = %.f, 실제 점수 = %.f, 예측 점수 = %.f' % (x[i], y[i], predict(x[i])))\n",
    "   \n",
    "print()\n",
    "print('mse 최종값 : ', str(mse_val(y, predict_result)))"
   ]
  }
 ],
 "metadata": {
  "kernelspec": {
   "display_name": "Python 3 (ipykernel)",
   "language": "python",
   "name": "python3"
  },
  "language_info": {
   "codemirror_mode": {
    "name": "ipython",
    "version": 3
   },
   "file_extension": ".py",
   "mimetype": "text/x-python",
   "name": "python",
   "nbconvert_exporter": "python",
   "pygments_lexer": "ipython3",
   "version": "3.7.11"
  }
 },
 "nbformat": 4,
 "nbformat_minor": 5
}
