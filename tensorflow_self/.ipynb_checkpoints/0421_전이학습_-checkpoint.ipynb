{
 "cells": [
  {
   "cell_type": "markdown",
   "id": "f0b3b3f4",
   "metadata": {},
   "source": [
    "20장 - 한정된 자료(이미지)의 초점을 옮기고 좌우, 상하 반전, 회전 등을 사용하여 자료가 많은 것처럼 사용"
   ]
  },
  {
   "cell_type": "code",
   "execution_count": 1,
   "id": "96c9b78c",
   "metadata": {},
   "outputs": [],
   "source": [
    "import tensorflow as tf\n",
    "from tensorflow import keras\n",
    "\n",
    "import numpy as np\n",
    "import pandas as pd\n",
    "import matplotlib.pyplot as plt\n",
    "\n",
    "import os\n",
    "\n",
    "from sklearn.model_selection import train_test_split"
   ]
  },
  {
   "cell_type": "code",
   "execution_count": 2,
   "id": "d81aa01a",
   "metadata": {},
   "outputs": [],
   "source": [
    "np.random.seed(3)\n",
    "tf.random.set_seed(3)"
   ]
  },
  {
   "cell_type": "code",
   "execution_count": 3,
   "id": "5d46cf4d",
   "metadata": {},
   "outputs": [],
   "source": [
    "train_datagen = keras.preprocessing.image.ImageDataGenerator(\n",
    "rescale=1./255, horizontal_flip=True, width_shift_range=0.1, height_shift_range=0.1, rotation_range=5,\n",
    "shear_range=0.7, zoom_range=[0.9, 2.2], vertical_flip=True, fill_mode='nearest')"
   ]
  },
  {
   "cell_type": "code",
   "execution_count": 4,
   "id": "9d3e53a8",
   "metadata": {},
   "outputs": [
    {
     "name": "stdout",
     "output_type": "stream",
     "text": [
      "Found 160 images belonging to 2 classes.\n"
     ]
    }
   ],
   "source": [
    "train_generator = train_datagen.flow_from_directory(\n",
    "    directory='../교재 코드/deeplearning-for-everyone-2nd-master/run_project/train/',\n",
    "    target_size = (150, 150),\n",
    "    save_to_dir = '../교재 코드/deeplearning-for-everyone-2nd-master/run_project/gen_train/',\n",
    "    batch_size=5,\n",
    "    class_mode = 'binary')"
   ]
  },
  {
   "cell_type": "code",
   "execution_count": 5,
   "id": "5683b4e9",
   "metadata": {},
   "outputs": [],
   "source": [
    "test_datagen = keras.preprocessing.image.ImageDataGenerator(rescale=1./255)"
   ]
  },
  {
   "cell_type": "code",
   "execution_count": 6,
   "id": "c898c20d",
   "metadata": {},
   "outputs": [
    {
     "name": "stdout",
     "output_type": "stream",
     "text": [
      "Found 120 images belonging to 2 classes.\n"
     ]
    }
   ],
   "source": [
    "test_generator = test_datagen.flow_from_directory(\n",
    "directory = '../교재 코드/deeplearning-for-everyone-2nd-master/run_project/test/',\n",
    "save_to_dir = '../교재 코드/deeplearning-for-everyone-2nd-master/run_project/gen_test/',\n",
    "target_size = (150, 150),\n",
    "batch_size = 5,\n",
    "class_mode = 'binary')"
   ]
  },
  {
   "cell_type": "code",
   "execution_count": 7,
   "id": "5580f61d",
   "metadata": {
    "scrolled": true
   },
   "outputs": [
    {
     "name": "stdout",
     "output_type": "stream",
     "text": [
      "Model: \"vgg16\"\n",
      "_________________________________________________________________\n",
      "Layer (type)                 Output Shape              Param #   \n",
      "=================================================================\n",
      "input_1 (InputLayer)         [(None, 150, 150, 3)]     0         \n",
      "_________________________________________________________________\n",
      "block1_conv1 (Conv2D)        (None, 150, 150, 64)      1792      \n",
      "_________________________________________________________________\n",
      "block1_conv2 (Conv2D)        (None, 150, 150, 64)      36928     \n",
      "_________________________________________________________________\n",
      "block1_pool (MaxPooling2D)   (None, 75, 75, 64)        0         \n",
      "_________________________________________________________________\n",
      "block2_conv1 (Conv2D)        (None, 75, 75, 128)       73856     \n",
      "_________________________________________________________________\n",
      "block2_conv2 (Conv2D)        (None, 75, 75, 128)       147584    \n",
      "_________________________________________________________________\n",
      "block2_pool (MaxPooling2D)   (None, 37, 37, 128)       0         \n",
      "_________________________________________________________________\n",
      "block3_conv1 (Conv2D)        (None, 37, 37, 256)       295168    \n",
      "_________________________________________________________________\n",
      "block3_conv2 (Conv2D)        (None, 37, 37, 256)       590080    \n",
      "_________________________________________________________________\n",
      "block3_conv3 (Conv2D)        (None, 37, 37, 256)       590080    \n",
      "_________________________________________________________________\n",
      "block3_pool (MaxPooling2D)   (None, 18, 18, 256)       0         \n",
      "_________________________________________________________________\n",
      "block4_conv1 (Conv2D)        (None, 18, 18, 512)       1180160   \n",
      "_________________________________________________________________\n",
      "block4_conv2 (Conv2D)        (None, 18, 18, 512)       2359808   \n",
      "_________________________________________________________________\n",
      "block4_conv3 (Conv2D)        (None, 18, 18, 512)       2359808   \n",
      "_________________________________________________________________\n",
      "block4_pool (MaxPooling2D)   (None, 9, 9, 512)         0         \n",
      "_________________________________________________________________\n",
      "block5_conv1 (Conv2D)        (None, 9, 9, 512)         2359808   \n",
      "_________________________________________________________________\n",
      "block5_conv2 (Conv2D)        (None, 9, 9, 512)         2359808   \n",
      "_________________________________________________________________\n",
      "block5_conv3 (Conv2D)        (None, 9, 9, 512)         2359808   \n",
      "_________________________________________________________________\n",
      "block5_pool (MaxPooling2D)   (None, 4, 4, 512)         0         \n",
      "=================================================================\n",
      "Total params: 14,714,688\n",
      "Trainable params: 0\n",
      "Non-trainable params: 14,714,688\n",
      "_________________________________________________________________\n"
     ]
    }
   ],
   "source": [
    "transfer_model = keras.applications.VGG16(weights='imagenet',\n",
    "                                         include_top = False,\n",
    "                                         input_shape = (150, 150, 3))\n",
    "\n",
    "transfer_model.trainable = False\n",
    "\n",
    "transfer_model.summary()"
   ]
  },
  {
   "cell_type": "code",
   "execution_count": 8,
   "id": "317186fa",
   "metadata": {},
   "outputs": [
    {
     "name": "stdout",
     "output_type": "stream",
     "text": [
      "Model: \"sequential\"\n",
      "_________________________________________________________________\n",
      "Layer (type)                 Output Shape              Param #   \n",
      "=================================================================\n",
      "vgg16 (Functional)           (None, 4, 4, 512)         14714688  \n",
      "_________________________________________________________________\n",
      "flatten (Flatten)            (None, 8192)              0         \n",
      "_________________________________________________________________\n",
      "dense (Dense)                (None, 64)                524352    \n",
      "_________________________________________________________________\n",
      "dense_1 (Dense)              (None, 1)                 65        \n",
      "=================================================================\n",
      "Total params: 15,239,105\n",
      "Trainable params: 524,417\n",
      "Non-trainable params: 14,714,688\n",
      "_________________________________________________________________\n"
     ]
    }
   ],
   "source": [
    "finefune_model = keras.Sequential()\n",
    "finefune_model.add(transfer_model)\n",
    "finefune_model.add(keras.layers.Flatten())\n",
    "finefune_model.add(keras.layers.Dense(64, activation = 'relu'))\n",
    "finefune_model.add(keras.layers.Dense(1, activation = 'sigmoid'))\n",
    "\n",
    "finefune_model.summary()"
   ]
  },
  {
   "cell_type": "code",
   "execution_count": 9,
   "id": "6878c2dd",
   "metadata": {},
   "outputs": [],
   "source": [
    "finefune_model.compile(loss = 'binary_crossentropy',\n",
    "                      optimizer = keras.optimizers.Adam(learning_rate = 0.002),\n",
    "                      metrics = 'accuracy')"
   ]
  },
  {
   "cell_type": "code",
   "execution_count": 10,
   "id": "90073532",
   "metadata": {
    "scrolled": true
   },
   "outputs": [
    {
     "name": "stdout",
     "output_type": "stream",
     "text": [
      "WARNING:tensorflow:From C:\\Users\\YGL\\AppData\\Local\\Temp/ipykernel_1704/2714628632.py:6: Model.fit_generator (from tensorflow.python.keras.engine.training) is deprecated and will be removed in a future version.\n",
      "Instructions for updating:\n",
      "Please use Model.fit, which supports generators.\n",
      "Epoch 1/10\n",
      "10/10 [==============================] - 3s 293ms/step - loss: 1.1104 - accuracy: 0.4600 - val_loss: 0.4815 - val_accuracy: 0.7500\n",
      "Epoch 2/10\n",
      "10/10 [==============================] - 3s 270ms/step - loss: 0.5249 - accuracy: 0.7600 - val_loss: 0.6149 - val_accuracy: 0.7000\n",
      "Epoch 3/10\n",
      "10/10 [==============================] - 3s 273ms/step - loss: 0.6165 - accuracy: 0.6600 - val_loss: 0.3609 - val_accuracy: 0.8000\n",
      "Epoch 4/10\n",
      "10/10 [==============================] - 3s 272ms/step - loss: 0.5161 - accuracy: 0.8000 - val_loss: 0.4715 - val_accuracy: 0.8000\n",
      "Epoch 5/10\n",
      "10/10 [==============================] - 3s 277ms/step - loss: 0.5225 - accuracy: 0.7800 - val_loss: 0.2075 - val_accuracy: 0.9500\n",
      "Epoch 6/10\n",
      "10/10 [==============================] - 3s 281ms/step - loss: 0.3701 - accuracy: 0.8400 - val_loss: 0.5680 - val_accuracy: 0.7000\n",
      "Epoch 7/10\n",
      "10/10 [==============================] - 3s 281ms/step - loss: 0.5149 - accuracy: 0.7400 - val_loss: 0.6996 - val_accuracy: 0.6500\n",
      "Epoch 8/10\n",
      "10/10 [==============================] - 3s 282ms/step - loss: 0.4280 - accuracy: 0.8000 - val_loss: 0.3555 - val_accuracy: 0.8000\n",
      "Epoch 9/10\n",
      "10/10 [==============================] - 3s 283ms/step - loss: 0.2961 - accuracy: 0.8800 - val_loss: 0.1838 - val_accuracy: 1.0000\n",
      "Epoch 10/10\n",
      "10/10 [==============================] - 3s 283ms/step - loss: 0.2570 - accuracy: 0.9000 - val_loss: 0.3449 - val_accuracy: 0.8500\n"
     ]
    }
   ],
   "source": [
    "## steps_per_epoch = len(x_train) 160//batch_size (5)\n",
    "## validation_steps = len(x_train) 120//batch_size (5)\n",
    "\n",
    "history = finefune_model.fit_generator(train_generator, steps_per_epoch=10,\n",
    "                                       epochs = 10, validation_data=test_generator,\n",
    "                                       validation_steps = 4)"
   ]
  },
  {
   "cell_type": "code",
   "execution_count": null,
   "id": "7fc15c87",
   "metadata": {},
   "outputs": [],
   "source": []
  },
  {
   "cell_type": "code",
   "execution_count": null,
   "id": "8ae7d218",
   "metadata": {},
   "outputs": [],
   "source": []
  }
 ],
 "metadata": {
  "kernelspec": {
   "display_name": "Python 3 (ipykernel)",
   "language": "python",
   "name": "python3"
  },
  "language_info": {
   "codemirror_mode": {
    "name": "ipython",
    "version": 3
   },
   "file_extension": ".py",
   "mimetype": "text/x-python",
   "name": "python",
   "nbconvert_exporter": "python",
   "pygments_lexer": "ipython3",
   "version": "3.7.11"
  }
 },
 "nbformat": 4,
 "nbformat_minor": 5
}
