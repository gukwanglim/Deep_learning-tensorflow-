{
 "cells": [
  {
   "cell_type": "markdown",
   "id": "7dbf7af7",
   "metadata": {},
   "source": [
    "# 16장"
   ]
  },
  {
   "cell_type": "code",
   "execution_count": 1,
   "id": "9702d95d",
   "metadata": {},
   "outputs": [],
   "source": [
    "import numpy as np\n",
    "import pandas as pd\n",
    "import matplotlib.pyplot as plt"
   ]
  },
  {
   "cell_type": "code",
   "execution_count": 2,
   "id": "cb4c801c",
   "metadata": {},
   "outputs": [],
   "source": [
    "from tensorflow import keras"
   ]
  },
  {
   "cell_type": "code",
   "execution_count": 3,
   "id": "633eb003",
   "metadata": {},
   "outputs": [
    {
     "name": "stdout",
     "output_type": "stream",
     "text": [
      "Downloading data from https://storage.googleapis.com/tensorflow/tf-keras-datasets/train-labels-idx1-ubyte.gz\n",
      "32768/29515 [=================================] - 0s 1us/step\n",
      "Downloading data from https://storage.googleapis.com/tensorflow/tf-keras-datasets/train-images-idx3-ubyte.gz\n",
      "26427392/26421880 [==============================] - 3s 0us/step\n",
      "Downloading data from https://storage.googleapis.com/tensorflow/tf-keras-datasets/t10k-labels-idx1-ubyte.gz\n",
      "8192/5148 [===============================================] - 0s 0us/step\n",
      "Downloading data from https://storage.googleapis.com/tensorflow/tf-keras-datasets/t10k-images-idx3-ubyte.gz\n",
      "4423680/4422102 [==============================] - 0s 0us/step\n"
     ]
    }
   ],
   "source": [
    "(train_input, train_target), (test_input, test_target) = keras.datasets.fashion_mnist.load_data()"
   ]
  },
  {
   "cell_type": "code",
   "execution_count": 4,
   "id": "d3c0c479",
   "metadata": {},
   "outputs": [
    {
     "data": {
      "text/plain": [
       "(60000, 28, 28)"
      ]
     },
     "execution_count": 4,
     "metadata": {},
     "output_type": "execute_result"
    }
   ],
   "source": [
    "train_input.shape"
   ]
  },
  {
   "cell_type": "code",
   "execution_count": 5,
   "id": "b3c10227",
   "metadata": {},
   "outputs": [
    {
     "data": {
      "text/plain": [
       "(60000,)"
      ]
     },
     "execution_count": 5,
     "metadata": {},
     "output_type": "execute_result"
    }
   ],
   "source": [
    "train_target.shape"
   ]
  },
  {
   "cell_type": "code",
   "execution_count": 8,
   "id": "4b600c9a",
   "metadata": {},
   "outputs": [
    {
     "data": {
      "text/plain": [
       "(10000, 28, 28)"
      ]
     },
     "execution_count": 8,
     "metadata": {},
     "output_type": "execute_result"
    }
   ],
   "source": [
    "test_input.shape"
   ]
  },
  {
   "cell_type": "code",
   "execution_count": 58,
   "id": "ffc1244a",
   "metadata": {},
   "outputs": [
    {
     "data": {
      "image/png": "[encoded data removed]",
      "text/plain": [
       "<Figure size 720x720 with 10 Axes>"
      ]
     },
     "metadata": {
      "needs_background": "light"
     },
     "output_type": "display_data"
    }
   ],
   "source": [
    "fig, axes = plt.subplots(1, 10, figsize = (10,10))\n",
    "\n",
    "for i in range(10):\n",
    "    axes[i].imshow(train_input[i], cmap = \"gray\")\n",
    "    axes[i].axis('off')\n",
    "plt.show()"
   ]
  },
  {
   "cell_type": "code",
   "execution_count": 11,
   "id": "534dbdf8",
   "metadata": {},
   "outputs": [
    {
     "data": {
      "text/plain": [
       "array([9, 0, 0, 3, 0, 2, 7, 2, 5, 5], dtype=uint8)"
      ]
     },
     "execution_count": 11,
     "metadata": {},
     "output_type": "execute_result"
    }
   ],
   "source": [
    "train_target[:10]"
   ]
  },
  {
   "cell_type": "code",
   "execution_count": 60,
   "id": "8863949e",
   "metadata": {},
   "outputs": [
    {
     "data": {
      "text/plain": [
       "(array([0, 1, 2, 3, 4, 5, 6, 7, 8, 9], dtype=uint8),\n",
       " array([4824, 4782, 4797, 4832, 4854, 4693, 4824, 4795, 4767, 4832],\n",
       "       dtype=int64))"
      ]
     },
     "execution_count": 60,
     "metadata": {},
     "output_type": "execute_result"
    }
   ],
   "source": [
    "np.unique(train_target, return_counts = True)"
   ]
  },
  {
   "cell_type": "code",
   "execution_count": 15,
   "id": "bcae9b9a",
   "metadata": {},
   "outputs": [
    {
     "data": {
      "text/plain": [
       "(60000, 784)"
      ]
     },
     "execution_count": 15,
     "metadata": {},
     "output_type": "execute_result"
    }
   ],
   "source": [
    "train_scaled = (train_input/255.0).reshape(-1, 28*28)             # train_input을 한 줄로 펼침\n",
    "test_scaled = (test_input/255.0).reshape(-1, 28*28)               # test_input을 한 줄로 펼침\n",
    "\n",
    "train_scaled.shape                                       # 한 줄로 펼쳤기 때문에 28*28의 형태가 아닌 784로 나옴."
   ]
  },
  {
   "cell_type": "code",
   "execution_count": 16,
   "id": "9617f9fa",
   "metadata": {},
   "outputs": [],
   "source": [
    "from sklearn.model_selection import train_test_split\n",
    "\n",
    "train_scaled, val_scaled, train_target, val_target = train_test_split(train_scaled, train_target, test_size=0.2)"
   ]
  },
  {
   "cell_type": "code",
   "execution_count": 17,
   "id": "5a46b600",
   "metadata": {},
   "outputs": [
    {
     "name": "stdout",
     "output_type": "stream",
     "text": [
      "(48000, 784)\n"
     ]
    }
   ],
   "source": [
    "print(train_scaled.shape)"
   ]
  },
  {
   "cell_type": "code",
   "execution_count": 23,
   "id": "4c70074c",
   "metadata": {},
   "outputs": [
    {
     "name": "stdout",
     "output_type": "stream",
     "text": [
      "Model: \"sequential_2\"\n",
      "_________________________________________________________________\n",
      "Layer (type)                 Output Shape              Param #   \n",
      "=================================================================\n",
      "dense_3 (Dense)              (None, 30)                23550     \n",
      "_________________________________________________________________\n",
      "dense_4 (Dense)              (None, 10)                310       \n",
      "=================================================================\n",
      "Total params: 23,860\n",
      "Trainable params: 23,860\n",
      "Non-trainable params: 0\n",
      "_________________________________________________________________\n"
     ]
    }
   ],
   "source": [
    "model = keras.Sequential()\n",
    "model.add(keras.layers.Dense(30, input_shape = (784, ), activation = 'relu'))\n",
    "model.add(keras.layers.Dense(10, activation = 'softmax'))\n",
    "\n",
    "model.summary()"
   ]
  },
  {
   "cell_type": "code",
   "execution_count": 24,
   "id": "d6689e94",
   "metadata": {},
   "outputs": [],
   "source": [
    "model.compile(loss = 'sparse_categorical_crossentropy',          # sparse_categorical_crossentropy : one-hot 자동\n",
    "             metrics = 'accuracy',\n",
    "             optimizer = 'adam')"
   ]
  },
  {
   "cell_type": "code",
   "execution_count": 25,
   "id": "08a1dd4c",
   "metadata": {
    "scrolled": true
   },
   "outputs": [
    {
     "name": "stdout",
     "output_type": "stream",
     "text": [
      "Epoch 1/100\n",
      "240/240 [==============================] - 0s 1ms/step - loss: 0.7791 - accuracy: 0.7463 - val_loss: 0.5102 - val_accuracy: 0.8322\n",
      "Epoch 2/100\n",
      "240/240 [==============================] - 0s 806us/step - loss: 0.4822 - accuracy: 0.8344 - val_loss: 0.4401 - val_accuracy: 0.8519\n",
      "Epoch 3/100\n",
      "240/240 [==============================] - 0s 864us/step - loss: 0.4344 - accuracy: 0.8510 - val_loss: 0.4201 - val_accuracy: 0.8528\n",
      "Epoch 4/100\n",
      "240/240 [==============================] - 0s 823us/step - loss: 0.4087 - accuracy: 0.8584 - val_loss: 0.3945 - val_accuracy: 0.8640\n",
      "Epoch 5/100\n",
      "240/240 [==============================] - 0s 790us/step - loss: 0.3892 - accuracy: 0.8635 - val_loss: 0.3789 - val_accuracy: 0.8677\n",
      "Epoch 6/100\n",
      "240/240 [==============================] - 0s 781us/step - loss: 0.3778 - accuracy: 0.8675 - val_loss: 0.3883 - val_accuracy: 0.8599\n",
      "Epoch 7/100\n",
      "240/240 [==============================] - 0s 810us/step - loss: 0.3663 - accuracy: 0.8707 - val_loss: 0.3660 - val_accuracy: 0.8709\n",
      "Epoch 8/100\n",
      "240/240 [==============================] - 0s 806us/step - loss: 0.3579 - accuracy: 0.8733 - val_loss: 0.3551 - val_accuracy: 0.8765\n",
      "Epoch 9/100\n",
      "240/240 [==============================] - 0s 814us/step - loss: 0.3460 - accuracy: 0.8781 - val_loss: 0.3537 - val_accuracy: 0.8775\n",
      "Epoch 10/100\n",
      "240/240 [==============================] - 0s 806us/step - loss: 0.3377 - accuracy: 0.8798 - val_loss: 0.3463 - val_accuracy: 0.8787\n",
      "Epoch 11/100\n",
      "240/240 [==============================] - 0s 806us/step - loss: 0.3333 - accuracy: 0.8814 - val_loss: 0.3457 - val_accuracy: 0.8783\n",
      "Epoch 12/100\n",
      "240/240 [==============================] - 0s 869us/step - loss: 0.3270 - accuracy: 0.8843 - val_loss: 0.3470 - val_accuracy: 0.8772\n",
      "Epoch 13/100\n",
      "240/240 [==============================] - 0s 785us/step - loss: 0.3247 - accuracy: 0.8830 - val_loss: 0.3441 - val_accuracy: 0.8773\n",
      "Epoch 14/100\n",
      "240/240 [==============================] - 0s 785us/step - loss: 0.3182 - accuracy: 0.8858 - val_loss: 0.3387 - val_accuracy: 0.8792\n",
      "Epoch 15/100\n",
      "240/240 [==============================] - 0s 831us/step - loss: 0.3133 - accuracy: 0.8878 - val_loss: 0.3358 - val_accuracy: 0.8781\n",
      "Epoch 16/100\n",
      "240/240 [==============================] - 0s 860us/step - loss: 0.3082 - accuracy: 0.8900 - val_loss: 0.3332 - val_accuracy: 0.8809\n",
      "Epoch 17/100\n",
      "240/240 [==============================] - 0s 794us/step - loss: 0.3054 - accuracy: 0.8898 - val_loss: 0.3417 - val_accuracy: 0.8770\n",
      "Epoch 18/100\n",
      "240/240 [==============================] - 0s 801us/step - loss: 0.3043 - accuracy: 0.8899 - val_loss: 0.3367 - val_accuracy: 0.8807\n",
      "Epoch 19/100\n",
      "240/240 [==============================] - 0s 785us/step - loss: 0.2983 - accuracy: 0.8919 - val_loss: 0.3312 - val_accuracy: 0.8845\n",
      "Epoch 20/100\n",
      "240/240 [==============================] - 0s 798us/step - loss: 0.2914 - accuracy: 0.8951 - val_loss: 0.3311 - val_accuracy: 0.8821\n",
      "Epoch 21/100\n",
      "240/240 [==============================] - 0s 798us/step - loss: 0.2902 - accuracy: 0.8951 - val_loss: 0.3248 - val_accuracy: 0.8872\n",
      "Epoch 22/100\n",
      "240/240 [==============================] - 0s 785us/step - loss: 0.2870 - accuracy: 0.8965 - val_loss: 0.3313 - val_accuracy: 0.8832\n",
      "Epoch 23/100\n",
      "240/240 [==============================] - 0s 794us/step - loss: 0.2841 - accuracy: 0.8970 - val_loss: 0.3354 - val_accuracy: 0.8816\n",
      "Epoch 24/100\n",
      "240/240 [==============================] - 0s 794us/step - loss: 0.2823 - accuracy: 0.8979 - val_loss: 0.3238 - val_accuracy: 0.8834\n",
      "Epoch 25/100\n",
      "240/240 [==============================] - 0s 852us/step - loss: 0.2776 - accuracy: 0.8986 - val_loss: 0.3293 - val_accuracy: 0.8833\n",
      "Epoch 26/100\n",
      "240/240 [==============================] - 0s 877us/step - loss: 0.2748 - accuracy: 0.9000 - val_loss: 0.3212 - val_accuracy: 0.8875\n",
      "Epoch 27/100\n",
      "240/240 [==============================] - 0s 811us/step - loss: 0.2738 - accuracy: 0.9003 - val_loss: 0.3239 - val_accuracy: 0.8856\n",
      "Epoch 28/100\n",
      "240/240 [==============================] - 0s 802us/step - loss: 0.2708 - accuracy: 0.9021 - val_loss: 0.3283 - val_accuracy: 0.8861\n",
      "Epoch 29/100\n",
      "240/240 [==============================] - 0s 814us/step - loss: 0.2711 - accuracy: 0.9017 - val_loss: 0.3228 - val_accuracy: 0.8877\n",
      "Epoch 30/100\n",
      "240/240 [==============================] - 0s 839us/step - loss: 0.2668 - accuracy: 0.9021 - val_loss: 0.3353 - val_accuracy: 0.8808\n",
      "Epoch 31/100\n",
      "240/240 [==============================] - 0s 794us/step - loss: 0.2644 - accuracy: 0.9029 - val_loss: 0.3248 - val_accuracy: 0.8859\n",
      "Epoch 32/100\n",
      "240/240 [==============================] - 0s 869us/step - loss: 0.2607 - accuracy: 0.9049 - val_loss: 0.3384 - val_accuracy: 0.8816\n",
      "Epoch 33/100\n",
      "240/240 [==============================] - 0s 802us/step - loss: 0.2624 - accuracy: 0.9036 - val_loss: 0.3274 - val_accuracy: 0.8834\n",
      "Epoch 34/100\n",
      "240/240 [==============================] - 0s 869us/step - loss: 0.2590 - accuracy: 0.9055 - val_loss: 0.3307 - val_accuracy: 0.8812\n",
      "Epoch 35/100\n",
      "240/240 [==============================] - 0s 810us/step - loss: 0.2559 - accuracy: 0.9062 - val_loss: 0.3257 - val_accuracy: 0.8841\n",
      "Epoch 36/100\n",
      "240/240 [==============================] - 0s 802us/step - loss: 0.2566 - accuracy: 0.9068 - val_loss: 0.3225 - val_accuracy: 0.8871\n",
      "Epoch 37/100\n",
      "240/240 [==============================] - 0s 814us/step - loss: 0.2537 - accuracy: 0.9083 - val_loss: 0.3349 - val_accuracy: 0.8802\n",
      "Epoch 38/100\n",
      "240/240 [==============================] - 0s 790us/step - loss: 0.2513 - accuracy: 0.9084 - val_loss: 0.3239 - val_accuracy: 0.8873\n",
      "Epoch 39/100\n",
      "240/240 [==============================] - 0s 848us/step - loss: 0.2483 - accuracy: 0.9093 - val_loss: 0.3406 - val_accuracy: 0.8763\n",
      "Epoch 40/100\n",
      "240/240 [==============================] - 0s 814us/step - loss: 0.2492 - accuracy: 0.9086 - val_loss: 0.3251 - val_accuracy: 0.8878\n",
      "Epoch 41/100\n",
      "240/240 [==============================] - 0s 806us/step - loss: 0.2459 - accuracy: 0.9100 - val_loss: 0.3288 - val_accuracy: 0.8862\n",
      "Epoch 42/100\n",
      "240/240 [==============================] - 0s 802us/step - loss: 0.2436 - accuracy: 0.9112 - val_loss: 0.3289 - val_accuracy: 0.8840\n",
      "Epoch 43/100\n",
      "240/240 [==============================] - 0s 794us/step - loss: 0.2448 - accuracy: 0.9117 - val_loss: 0.3313 - val_accuracy: 0.8867\n",
      "Epoch 44/100\n",
      "240/240 [==============================] - 0s 806us/step - loss: 0.2433 - accuracy: 0.9116 - val_loss: 0.3398 - val_accuracy: 0.8837\n",
      "Epoch 45/100\n",
      "240/240 [==============================] - 0s 781us/step - loss: 0.2396 - accuracy: 0.9131 - val_loss: 0.3285 - val_accuracy: 0.8867\n",
      "Epoch 46/100\n",
      "240/240 [==============================] - 0s 798us/step - loss: 0.2384 - accuracy: 0.9127 - val_loss: 0.3373 - val_accuracy: 0.8846\n",
      "Epoch 47/100\n",
      "240/240 [==============================] - 0s 790us/step - loss: 0.2355 - accuracy: 0.9144 - val_loss: 0.3306 - val_accuracy: 0.8871\n",
      "Epoch 48/100\n",
      "240/240 [==============================] - 0s 802us/step - loss: 0.2355 - accuracy: 0.9139 - val_loss: 0.3265 - val_accuracy: 0.8862\n",
      "Epoch 49/100\n",
      "240/240 [==============================] - 0s 794us/step - loss: 0.2321 - accuracy: 0.9151 - val_loss: 0.3299 - val_accuracy: 0.8871\n",
      "Epoch 50/100\n",
      "240/240 [==============================] - 0s 785us/step - loss: 0.2318 - accuracy: 0.9148 - val_loss: 0.3330 - val_accuracy: 0.8876\n",
      "Epoch 51/100\n",
      "240/240 [==============================] - 0s 798us/step - loss: 0.2350 - accuracy: 0.9139 - val_loss: 0.3336 - val_accuracy: 0.8852\n",
      "Epoch 52/100\n",
      "240/240 [==============================] - 0s 785us/step - loss: 0.2293 - accuracy: 0.9164 - val_loss: 0.3323 - val_accuracy: 0.8871\n",
      "Epoch 53/100\n",
      "240/240 [==============================] - 0s 794us/step - loss: 0.2291 - accuracy: 0.9160 - val_loss: 0.3366 - val_accuracy: 0.8843\n",
      "Epoch 54/100\n",
      "240/240 [==============================] - 0s 785us/step - loss: 0.2257 - accuracy: 0.9172 - val_loss: 0.3892 - val_accuracy: 0.8672\n",
      "Epoch 55/100\n",
      "240/240 [==============================] - 0s 815us/step - loss: 0.2283 - accuracy: 0.9159 - val_loss: 0.3388 - val_accuracy: 0.8852\n",
      "Epoch 56/100\n",
      "240/240 [==============================] - 0s 814us/step - loss: 0.2248 - accuracy: 0.9171 - val_loss: 0.3430 - val_accuracy: 0.8843\n",
      "Epoch 57/100\n",
      "240/240 [==============================] - 0s 785us/step - loss: 0.2223 - accuracy: 0.9190 - val_loss: 0.3373 - val_accuracy: 0.8867\n",
      "Epoch 58/100\n",
      "240/240 [==============================] - 0s 785us/step - loss: 0.2246 - accuracy: 0.9178 - val_loss: 0.3396 - val_accuracy: 0.8851\n",
      "Epoch 59/100\n",
      "240/240 [==============================] - 0s 761us/step - loss: 0.2226 - accuracy: 0.9187 - val_loss: 0.3337 - val_accuracy: 0.8861\n",
      "Epoch 60/100\n",
      "240/240 [==============================] - 0s 765us/step - loss: 0.2208 - accuracy: 0.9194 - val_loss: 0.3401 - val_accuracy: 0.8858\n",
      "Epoch 61/100\n",
      "240/240 [==============================] - 0s 765us/step - loss: 0.2199 - accuracy: 0.9198 - val_loss: 0.3514 - val_accuracy: 0.8817\n",
      "Epoch 62/100\n",
      "240/240 [==============================] - 0s 773us/step - loss: 0.2200 - accuracy: 0.9199 - val_loss: 0.3568 - val_accuracy: 0.8835\n",
      "Epoch 63/100\n",
      "240/240 [==============================] - 0s 785us/step - loss: 0.2172 - accuracy: 0.9202 - val_loss: 0.3516 - val_accuracy: 0.8815\n",
      "Epoch 64/100\n",
      "240/240 [==============================] - 0s 790us/step - loss: 0.2164 - accuracy: 0.9214 - val_loss: 0.3436 - val_accuracy: 0.8847\n",
      "Epoch 65/100\n",
      "240/240 [==============================] - 0s 777us/step - loss: 0.2147 - accuracy: 0.9217 - val_loss: 0.3430 - val_accuracy: 0.8832\n",
      "Epoch 66/100\n",
      "240/240 [==============================] - 0s 765us/step - loss: 0.2142 - accuracy: 0.9217 - val_loss: 0.3448 - val_accuracy: 0.8862\n",
      "Epoch 67/100\n",
      "240/240 [==============================] - 0s 781us/step - loss: 0.2121 - accuracy: 0.9220 - val_loss: 0.3585 - val_accuracy: 0.8798\n",
      "Epoch 68/100\n",
      "240/240 [==============================] - 0s 773us/step - loss: 0.2109 - accuracy: 0.9232 - val_loss: 0.3489 - val_accuracy: 0.8842\n",
      "Epoch 69/100\n",
      "240/240 [==============================] - 0s 777us/step - loss: 0.2092 - accuracy: 0.9235 - val_loss: 0.3464 - val_accuracy: 0.8853\n",
      "Epoch 70/100\n",
      "240/240 [==============================] - 0s 765us/step - loss: 0.2085 - accuracy: 0.9231 - val_loss: 0.3534 - val_accuracy: 0.8816\n",
      "Epoch 71/100\n",
      "240/240 [==============================] - 0s 777us/step - loss: 0.2076 - accuracy: 0.9241 - val_loss: 0.3479 - val_accuracy: 0.8865\n",
      "Epoch 72/100\n",
      "240/240 [==============================] - 0s 773us/step - loss: 0.2091 - accuracy: 0.9235 - val_loss: 0.3500 - val_accuracy: 0.8815\n",
      "Epoch 73/100\n",
      "240/240 [==============================] - 0s 773us/step - loss: 0.2078 - accuracy: 0.9242 - val_loss: 0.3604 - val_accuracy: 0.8772\n",
      "Epoch 74/100\n",
      "240/240 [==============================] - 0s 769us/step - loss: 0.2068 - accuracy: 0.9241 - val_loss: 0.3499 - val_accuracy: 0.8841\n",
      "Epoch 75/100\n",
      "240/240 [==============================] - 0s 777us/step - loss: 0.2041 - accuracy: 0.9260 - val_loss: 0.3462 - val_accuracy: 0.8852\n",
      "Epoch 76/100\n",
      "240/240 [==============================] - 0s 781us/step - loss: 0.2036 - accuracy: 0.9254 - val_loss: 0.3550 - val_accuracy: 0.8833\n",
      "Epoch 77/100\n",
      "240/240 [==============================] - 0s 769us/step - loss: 0.2029 - accuracy: 0.9259 - val_loss: 0.3496 - val_accuracy: 0.8863\n",
      "Epoch 78/100\n",
      "240/240 [==============================] - 0s 777us/step - loss: 0.2014 - accuracy: 0.9258 - val_loss: 0.3635 - val_accuracy: 0.8800\n",
      "Epoch 79/100\n",
      "240/240 [==============================] - 0s 765us/step - loss: 0.2026 - accuracy: 0.9258 - val_loss: 0.3650 - val_accuracy: 0.8815\n",
      "Epoch 80/100\n",
      "240/240 [==============================] - 0s 777us/step - loss: 0.1998 - accuracy: 0.9272 - val_loss: 0.3495 - val_accuracy: 0.8854\n",
      "Epoch 81/100\n",
      "240/240 [==============================] - 0s 773us/step - loss: 0.1988 - accuracy: 0.9273 - val_loss: 0.3495 - val_accuracy: 0.8856\n",
      "Epoch 82/100\n",
      "240/240 [==============================] - 0s 765us/step - loss: 0.1958 - accuracy: 0.9286 - val_loss: 0.3584 - val_accuracy: 0.8854\n",
      "Epoch 83/100\n",
      "240/240 [==============================] - 0s 777us/step - loss: 0.1976 - accuracy: 0.9274 - val_loss: 0.3539 - val_accuracy: 0.8848\n",
      "Epoch 84/100\n",
      "240/240 [==============================] - 0s 839us/step - loss: 0.1967 - accuracy: 0.9274 - val_loss: 0.3568 - val_accuracy: 0.8844\n",
      "Epoch 85/100\n",
      "240/240 [==============================] - 0s 766us/step - loss: 0.1988 - accuracy: 0.9275 - val_loss: 0.3686 - val_accuracy: 0.8798\n",
      "Epoch 86/100\n",
      "240/240 [==============================] - 0s 777us/step - loss: 0.1930 - accuracy: 0.9295 - val_loss: 0.3599 - val_accuracy: 0.8831\n",
      "Epoch 87/100\n",
      "240/240 [==============================] - 0s 761us/step - loss: 0.1933 - accuracy: 0.9289 - val_loss: 0.3601 - val_accuracy: 0.8848\n",
      "Epoch 88/100\n",
      "240/240 [==============================] - 0s 785us/step - loss: 0.1939 - accuracy: 0.9280 - val_loss: 0.3673 - val_accuracy: 0.8823\n",
      "Epoch 89/100\n",
      "240/240 [==============================] - 0s 778us/step - loss: 0.1922 - accuracy: 0.9296 - val_loss: 0.3631 - val_accuracy: 0.8824\n",
      "Epoch 90/100\n",
      "240/240 [==============================] - 0s 777us/step - loss: 0.1903 - accuracy: 0.9295 - val_loss: 0.3639 - val_accuracy: 0.8840\n",
      "Epoch 91/100\n",
      "240/240 [==============================] - 0s 777us/step - loss: 0.1898 - accuracy: 0.9309 - val_loss: 0.3662 - val_accuracy: 0.8830\n",
      "Epoch 92/100\n",
      "240/240 [==============================] - 0s 774us/step - loss: 0.1907 - accuracy: 0.9302 - val_loss: 0.3720 - val_accuracy: 0.8837\n",
      "Epoch 93/100\n",
      "240/240 [==============================] - 0s 769us/step - loss: 0.1883 - accuracy: 0.9307 - val_loss: 0.3809 - val_accuracy: 0.8783\n",
      "Epoch 94/100\n",
      "240/240 [==============================] - 0s 781us/step - loss: 0.1905 - accuracy: 0.9302 - val_loss: 0.3725 - val_accuracy: 0.8841\n",
      "Epoch 95/100\n",
      "240/240 [==============================] - 0s 781us/step - loss: 0.1855 - accuracy: 0.9318 - val_loss: 0.3678 - val_accuracy: 0.8829\n",
      "Epoch 96/100\n",
      "240/240 [==============================] - 0s 773us/step - loss: 0.1864 - accuracy: 0.9325 - val_loss: 0.3905 - val_accuracy: 0.8779\n",
      "Epoch 97/100\n",
      "240/240 [==============================] - 0s 777us/step - loss: 0.1857 - accuracy: 0.9323 - val_loss: 0.3751 - val_accuracy: 0.8822\n",
      "Epoch 98/100\n",
      "240/240 [==============================] - 0s 777us/step - loss: 0.1850 - accuracy: 0.9313 - val_loss: 0.3702 - val_accuracy: 0.8823\n",
      "Epoch 99/100\n",
      "240/240 [==============================] - 0s 777us/step - loss: 0.1832 - accuracy: 0.9326 - val_loss: 0.3802 - val_accuracy: 0.8800\n",
      "Epoch 100/100\n",
      "240/240 [==============================] - 0s 765us/step - loss: 0.1832 - accuracy: 0.9328 - val_loss: 0.3821 - val_accuracy: 0.8822\n"
     ]
    }
   ],
   "source": [
    "history = model.fit(train_scaled, train_target, epochs = 100, batch_size = 200,\n",
    "         validation_data = (val_scaled, val_target))           # 이전까지와는 달리 데이터를 훈련세트와 테스트세트로 분류했기 때문에\n",
    "                                                               # validation_data를 사용하여 훈련시킬 데이터를 선정한다."
   ]
  },
  {
   "cell_type": "code",
   "execution_count": 26,
   "id": "4448b72c",
   "metadata": {},
   "outputs": [
    {
     "data": {
      "image/png": "[encoded data removed]",
      "text/plain": [
       "<Figure size 432x288 with 1 Axes>"
      ]
     },
     "metadata": {
      "needs_background": "light"
     },
     "output_type": "display_data"
    }
   ],
   "source": [
    "plt.plot(history.history['loss'], c = 'red')\n",
    "plt.plot(history.history['val_loss'], c = 'blue')\n",
    "plt.show()"
   ]
  },
  {
   "cell_type": "code",
   "execution_count": 31,
   "id": "1418acf7",
   "metadata": {},
   "outputs": [
    {
     "name": "stdout",
     "output_type": "stream",
     "text": [
      "Model: \"sequential_5\"\n",
      "_________________________________________________________________\n",
      "Layer (type)                 Output Shape              Param #   \n",
      "=================================================================\n",
      "hidden1 (Dense)              (None, 100)               78500     \n",
      "_________________________________________________________________\n",
      "hidden2 (Dense)              (None, 30)                3030      \n",
      "_________________________________________________________________\n",
      "output (Dense)               (None, 10)                310       \n",
      "=================================================================\n",
      "Total params: 81,840\n",
      "Trainable params: 81,840\n",
      "Non-trainable params: 0\n",
      "_________________________________________________________________\n"
     ]
    }
   ],
   "source": [
    "model = keras.Sequential()\n",
    "model.add(keras.layers.Dense(100, activation = 'relu',\n",
    "                            input_shape = (784,), name = 'hidden1'))\n",
    "model.add(keras.layers.Dense(30, activation = 'relu', name = 'hidden2'))\n",
    "model.add(keras.layers.Dense(10, activation = 'softmax', name = 'output'))\n",
    "\n",
    "model.summary()"
   ]
  },
  {
   "cell_type": "code",
   "execution_count": 32,
   "id": "a3ef75bf",
   "metadata": {},
   "outputs": [],
   "source": [
    "model.compile(loss = 'sparse_categorical_crossentropy',          # sparse_categorical_crossentropy : one-hot 자동\n",
    "             metrics = 'accuracy',\n",
    "             optimizer = 'adam')"
   ]
  },
  {
   "cell_type": "code",
   "execution_count": 33,
   "id": "94b94022",
   "metadata": {
    "scrolled": true
   },
   "outputs": [
    {
     "name": "stdout",
     "output_type": "stream",
     "text": [
      "Epoch 1/30\n",
      "218/240 [==========================>...] - ETA: 0s - loss: 0.6922 - accuracy: 0.7669WARNING:tensorflow:Callbacks method `on_test_batch_begin` is slow compared to the batch time (batch time: 0.0000s vs `on_test_batch_begin` time: 0.0001s). Check your callbacks.\n",
      "240/240 [==============================] - 0s 2ms/step - loss: 0.6733 - accuracy: 0.7724 - val_loss: 0.4614 - val_accuracy: 0.8425\n",
      "Epoch 2/30\n",
      "240/240 [==============================] - 0s 1ms/step - loss: 0.4385 - accuracy: 0.8459 - val_loss: 0.4033 - val_accuracy: 0.8597\n",
      "Epoch 3/30\n",
      "240/240 [==============================] - 0s 1ms/step - loss: 0.3964 - accuracy: 0.8621 - val_loss: 0.3851 - val_accuracy: 0.8681\n",
      "Epoch 4/30\n",
      "240/240 [==============================] - 0s 1ms/step - loss: 0.3707 - accuracy: 0.8684 - val_loss: 0.3586 - val_accuracy: 0.8718\n",
      "Epoch 5/30\n",
      "240/240 [==============================] - 0s 1ms/step - loss: 0.3521 - accuracy: 0.8740 - val_loss: 0.3540 - val_accuracy: 0.8761\n",
      "Epoch 6/30\n",
      "240/240 [==============================] - 0s 1ms/step - loss: 0.3321 - accuracy: 0.8822 - val_loss: 0.3346 - val_accuracy: 0.8782\n",
      "Epoch 7/30\n",
      "240/240 [==============================] - 0s 1ms/step - loss: 0.3195 - accuracy: 0.8846 - val_loss: 0.3326 - val_accuracy: 0.8794\n",
      "Epoch 8/30\n",
      "240/240 [==============================] - 0s 1ms/step - loss: 0.3068 - accuracy: 0.8885 - val_loss: 0.3254 - val_accuracy: 0.8842\n",
      "Epoch 9/30\n",
      "240/240 [==============================] - 0s 1ms/step - loss: 0.2988 - accuracy: 0.8924 - val_loss: 0.3255 - val_accuracy: 0.8833\n",
      "Epoch 10/30\n",
      "240/240 [==============================] - 0s 1ms/step - loss: 0.2892 - accuracy: 0.8940 - val_loss: 0.3226 - val_accuracy: 0.8868\n",
      "Epoch 11/30\n",
      "240/240 [==============================] - 0s 1ms/step - loss: 0.2799 - accuracy: 0.8986 - val_loss: 0.3056 - val_accuracy: 0.8897\n",
      "Epoch 12/30\n",
      "240/240 [==============================] - 0s 1ms/step - loss: 0.2715 - accuracy: 0.9004 - val_loss: 0.3208 - val_accuracy: 0.8866\n",
      "Epoch 13/30\n",
      "240/240 [==============================] - 0s 1ms/step - loss: 0.2610 - accuracy: 0.9038 - val_loss: 0.3124 - val_accuracy: 0.8882\n",
      "Epoch 14/30\n",
      "240/240 [==============================] - 0s 1ms/step - loss: 0.2554 - accuracy: 0.9062 - val_loss: 0.3052 - val_accuracy: 0.8911\n",
      "Epoch 15/30\n",
      "240/240 [==============================] - 0s 1ms/step - loss: 0.2488 - accuracy: 0.9093 - val_loss: 0.3159 - val_accuracy: 0.8858\n",
      "Epoch 16/30\n",
      "240/240 [==============================] - 0s 1ms/step - loss: 0.2422 - accuracy: 0.9093 - val_loss: 0.3152 - val_accuracy: 0.8863\n",
      "Epoch 17/30\n",
      "240/240 [==============================] - 0s 1ms/step - loss: 0.2386 - accuracy: 0.9125 - val_loss: 0.3051 - val_accuracy: 0.8927\n",
      "Epoch 18/30\n",
      "240/240 [==============================] - 0s 1ms/step - loss: 0.2332 - accuracy: 0.9134 - val_loss: 0.3087 - val_accuracy: 0.8948\n",
      "Epoch 19/30\n",
      "240/240 [==============================] - 0s 1ms/step - loss: 0.2280 - accuracy: 0.9148 - val_loss: 0.3149 - val_accuracy: 0.8898\n",
      "Epoch 20/30\n",
      "240/240 [==============================] - 0s 1ms/step - loss: 0.2207 - accuracy: 0.9189 - val_loss: 0.3047 - val_accuracy: 0.8942\n",
      "Epoch 21/30\n",
      "240/240 [==============================] - 0s 1ms/step - loss: 0.2155 - accuracy: 0.9205 - val_loss: 0.2959 - val_accuracy: 0.8975\n",
      "Epoch 22/30\n",
      "240/240 [==============================] - 0s 1ms/step - loss: 0.2097 - accuracy: 0.9222 - val_loss: 0.3031 - val_accuracy: 0.8965\n",
      "Epoch 23/30\n",
      "240/240 [==============================] - 0s 1ms/step - loss: 0.2070 - accuracy: 0.9233 - val_loss: 0.3073 - val_accuracy: 0.8949\n",
      "Epoch 24/30\n",
      "240/240 [==============================] - 0s 1ms/step - loss: 0.2007 - accuracy: 0.9260 - val_loss: 0.3018 - val_accuracy: 0.8961\n",
      "Epoch 25/30\n",
      "240/240 [==============================] - 0s 1ms/step - loss: 0.1927 - accuracy: 0.9287 - val_loss: 0.3049 - val_accuracy: 0.8962\n",
      "Epoch 26/30\n",
      "240/240 [==============================] - 0s 1ms/step - loss: 0.1936 - accuracy: 0.9289 - val_loss: 0.3081 - val_accuracy: 0.8953\n",
      "Epoch 27/30\n",
      "240/240 [==============================] - 0s 1ms/step - loss: 0.1868 - accuracy: 0.9304 - val_loss: 0.3233 - val_accuracy: 0.8913\n",
      "Epoch 28/30\n",
      "240/240 [==============================] - 0s 1ms/step - loss: 0.1869 - accuracy: 0.9309 - val_loss: 0.3099 - val_accuracy: 0.8970\n",
      "Epoch 29/30\n",
      "240/240 [==============================] - 0s 1ms/step - loss: 0.1798 - accuracy: 0.9327 - val_loss: 0.3125 - val_accuracy: 0.8978\n",
      "Epoch 30/30\n",
      "240/240 [==============================] - 0s 1ms/step - loss: 0.1770 - accuracy: 0.9335 - val_loss: 0.3512 - val_accuracy: 0.8889\n"
     ]
    }
   ],
   "source": [
    "history = model.fit(train_scaled, train_target, epochs = 30, batch_size = 200,\n",
    "         validation_data = (val_scaled, val_target))"
   ]
  },
  {
   "cell_type": "code",
   "execution_count": 34,
   "id": "bbe12758",
   "metadata": {},
   "outputs": [
    {
     "name": "stdout",
     "output_type": "stream",
     "text": [
      "313/313 [==============================] - 0s 617us/step - loss: 0.3984 - accuracy: 0.8730\n"
     ]
    },
    {
     "data": {
      "text/plain": [
       "[0.3983911871910095, 0.8730000257492065]"
      ]
     },
     "execution_count": 34,
     "metadata": {},
     "output_type": "execute_result"
    }
   ],
   "source": [
    "model.evaluate(test_scaled, test_target)"
   ]
  },
  {
   "cell_type": "code",
   "execution_count": 42,
   "id": "8bcd7232",
   "metadata": {},
   "outputs": [],
   "source": [
    "## model 함수 정의\n",
    "\n",
    "def model_fn(a_layer = None, name = None):\n",
    "    model = keras.Sequential(name = name)\n",
    "    model.add(keras.layers.Flatten(input_shape = (784, )))         # Flatten : 들어오는 input의 shape 조절\n",
    "    model.add(keras.layers.Dense(100, activation = 'relu'))\n",
    "    if a_layer:                                                     # layer 가 지정될 경우 그것을 사용.\n",
    "        model.add(a_layer)\n",
    "    model.add(keras.layers.Dense(10, activation = 'softmax'))\n",
    "    \n",
    "    return model"
   ]
  },
  {
   "cell_type": "code",
   "execution_count": 44,
   "id": "d58ebd1e",
   "metadata": {
    "scrolled": true
   },
   "outputs": [
    {
     "name": "stdout",
     "output_type": "stream",
     "text": [
      "Epoch 1/40\n",
      "1500/1500 [==============================] - 1s 743us/step - loss: 0.5385 - accuracy: 0.8096 - val_loss: 0.3921 - val_accuracy: 0.8609\n",
      "Epoch 2/40\n",
      "1500/1500 [==============================] - 1s 694us/step - loss: 0.3988 - accuracy: 0.8563 - val_loss: 0.3931 - val_accuracy: 0.8614\n",
      "Epoch 3/40\n",
      "1500/1500 [==============================] - 1s 680us/step - loss: 0.3587 - accuracy: 0.8701 - val_loss: 0.3427 - val_accuracy: 0.8802\n",
      "Epoch 4/40\n",
      "1500/1500 [==============================] - 1s 685us/step - loss: 0.3393 - accuracy: 0.8786 - val_loss: 0.3521 - val_accuracy: 0.8819\n",
      "Epoch 5/40\n",
      "1500/1500 [==============================] - 1s 681us/step - loss: 0.3258 - accuracy: 0.8849 - val_loss: 0.3676 - val_accuracy: 0.8761\n",
      "Epoch 6/40\n",
      "1500/1500 [==============================] - 1s 683us/step - loss: 0.3124 - accuracy: 0.8884 - val_loss: 0.3608 - val_accuracy: 0.8771\n",
      "Epoch 7/40\n",
      "1500/1500 [==============================] - 1s 684us/step - loss: 0.3038 - accuracy: 0.8926 - val_loss: 0.3546 - val_accuracy: 0.8836\n",
      "Epoch 8/40\n",
      "1500/1500 [==============================] - 1s 685us/step - loss: 0.2952 - accuracy: 0.8960 - val_loss: 0.3880 - val_accuracy: 0.8758\n",
      "Epoch 9/40\n",
      "1500/1500 [==============================] - 1s 686us/step - loss: 0.2881 - accuracy: 0.8992 - val_loss: 0.3629 - val_accuracy: 0.8856\n",
      "Epoch 10/40\n",
      "1500/1500 [==============================] - 1s 688us/step - loss: 0.2800 - accuracy: 0.9011 - val_loss: 0.3573 - val_accuracy: 0.8885\n",
      "Epoch 11/40\n",
      "1500/1500 [==============================] - 1s 688us/step - loss: 0.2735 - accuracy: 0.9044 - val_loss: 0.3842 - val_accuracy: 0.8783\n",
      "Epoch 12/40\n",
      "1500/1500 [==============================] - 1s 693us/step - loss: 0.2673 - accuracy: 0.9055 - val_loss: 0.3835 - val_accuracy: 0.8812\n",
      "Epoch 13/40\n",
      "1500/1500 [==============================] - 1s 693us/step - loss: 0.2630 - accuracy: 0.9081 - val_loss: 0.3839 - val_accuracy: 0.8831\n",
      "Epoch 14/40\n",
      "1500/1500 [==============================] - 1s 689us/step - loss: 0.2575 - accuracy: 0.9109 - val_loss: 0.4105 - val_accuracy: 0.8864\n",
      "Epoch 15/40\n",
      "1500/1500 [==============================] - 1s 734us/step - loss: 0.2503 - accuracy: 0.9129 - val_loss: 0.3854 - val_accuracy: 0.8873\n",
      "Epoch 16/40\n",
      "1500/1500 [==============================] - 1s 701us/step - loss: 0.2482 - accuracy: 0.9147 - val_loss: 0.4160 - val_accuracy: 0.8900\n",
      "Epoch 17/40\n",
      "1500/1500 [==============================] - 1s 696us/step - loss: 0.2421 - accuracy: 0.9161 - val_loss: 0.4456 - val_accuracy: 0.8840\n",
      "Epoch 18/40\n",
      "1500/1500 [==============================] - 1s 739us/step - loss: 0.2381 - accuracy: 0.9180 - val_loss: 0.4251 - val_accuracy: 0.8884\n",
      "Epoch 19/40\n",
      "1500/1500 [==============================] - 1s 688us/step - loss: 0.2341 - accuracy: 0.9199 - val_loss: 0.4408 - val_accuracy: 0.8866\n",
      "Epoch 20/40\n",
      "1500/1500 [==============================] - 1s 688us/step - loss: 0.2315 - accuracy: 0.9215 - val_loss: 0.4309 - val_accuracy: 0.8906\n",
      "Epoch 21/40\n",
      "1500/1500 [==============================] - 1s 688us/step - loss: 0.2260 - accuracy: 0.9228 - val_loss: 0.4289 - val_accuracy: 0.8888\n",
      "Epoch 22/40\n",
      "1500/1500 [==============================] - 1s 687us/step - loss: 0.2257 - accuracy: 0.9240 - val_loss: 0.5030 - val_accuracy: 0.8838\n",
      "Epoch 23/40\n",
      "1500/1500 [==============================] - 1s 686us/step - loss: 0.2215 - accuracy: 0.9241 - val_loss: 0.4529 - val_accuracy: 0.8861\n",
      "Epoch 24/40\n",
      "1500/1500 [==============================] - 1s 729us/step - loss: 0.2172 - accuracy: 0.9271 - val_loss: 0.4899 - val_accuracy: 0.8839\n",
      "Epoch 25/40\n",
      "1500/1500 [==============================] - 1s 726us/step - loss: 0.2114 - accuracy: 0.9274 - val_loss: 0.5061 - val_accuracy: 0.8855\n",
      "Epoch 26/40\n",
      "1500/1500 [==============================] - 1s 697us/step - loss: 0.2133 - accuracy: 0.9277 - val_loss: 0.4835 - val_accuracy: 0.8857\n",
      "Epoch 27/40\n",
      "1500/1500 [==============================] - 1s 701us/step - loss: 0.2062 - accuracy: 0.9306 - val_loss: 0.5312 - val_accuracy: 0.8777\n",
      "Epoch 28/40\n",
      "1500/1500 [==============================] - 1s 697us/step - loss: 0.2045 - accuracy: 0.9315 - val_loss: 0.5106 - val_accuracy: 0.8865\n",
      "Epoch 29/40\n",
      "1500/1500 [==============================] - 1s 697us/step - loss: 0.2048 - accuracy: 0.9324 - val_loss: 0.5151 - val_accuracy: 0.8889\n",
      "Epoch 30/40\n",
      "1500/1500 [==============================] - 1s 694us/step - loss: 0.2019 - accuracy: 0.9328 - val_loss: 0.5155 - val_accuracy: 0.8885\n",
      "Epoch 31/40\n",
      "1500/1500 [==============================] - 1s 695us/step - loss: 0.1996 - accuracy: 0.9324 - val_loss: 0.5266 - val_accuracy: 0.8863\n",
      "Epoch 32/40\n",
      "1500/1500 [==============================] - 1s 722us/step - loss: 0.1915 - accuracy: 0.9359 - val_loss: 0.5705 - val_accuracy: 0.8845\n",
      "Epoch 33/40\n",
      "1500/1500 [==============================] - 1s 696us/step - loss: 0.1923 - accuracy: 0.9355 - val_loss: 0.5713 - val_accuracy: 0.8878\n",
      "Epoch 34/40\n",
      "1500/1500 [==============================] - 1s 711us/step - loss: 0.1870 - accuracy: 0.9370 - val_loss: 0.5424 - val_accuracy: 0.8911\n",
      "Epoch 35/40\n",
      "1500/1500 [==============================] - 1s 710us/step - loss: 0.1853 - accuracy: 0.9388 - val_loss: 0.6008 - val_accuracy: 0.8808\n",
      "Epoch 36/40\n",
      "1500/1500 [==============================] - 1s 712us/step - loss: 0.1837 - accuracy: 0.9381 - val_loss: 0.5723 - val_accuracy: 0.8790\n",
      "Epoch 37/40\n",
      "1500/1500 [==============================] - 1s 709us/step - loss: 0.1809 - accuracy: 0.9403 - val_loss: 0.6072 - val_accuracy: 0.8872\n",
      "Epoch 38/40\n",
      "1500/1500 [==============================] - 1s 714us/step - loss: 0.1811 - accuracy: 0.9402 - val_loss: 0.5944 - val_accuracy: 0.8830\n",
      "Epoch 39/40\n",
      "1500/1500 [==============================] - 1s 718us/step - loss: 0.1756 - accuracy: 0.9416 - val_loss: 0.6263 - val_accuracy: 0.8855\n",
      "Epoch 40/40\n",
      "1500/1500 [==============================] - 1s 703us/step - loss: 0.1772 - accuracy: 0.9415 - val_loss: 0.6341 - val_accuracy: 0.8838\n"
     ]
    }
   ],
   "source": [
    "model = model_fn()\n",
    "model.compile(loss = 'sparse_categorical_crossentropy',\n",
    "             optimizer = 'rmsprop',\n",
    "             metrics = 'accuracy')\n",
    "history = model.fit(train_scaled, train_target, epochs = 40, validation_data=(val_scaled, val_target))\n",
    "# model.summary()"
   ]
  },
  {
   "cell_type": "code",
   "execution_count": 45,
   "id": "627018ea",
   "metadata": {},
   "outputs": [
    {
     "name": "stdout",
     "output_type": "stream",
     "text": [
      "313/313 [==============================] - 0s 605us/step - loss: 0.6912 - accuracy: 0.8750\n"
     ]
    },
    {
     "data": {
      "text/plain": [
       "[0.6912198662757874, 0.875]"
      ]
     },
     "execution_count": 45,
     "metadata": {},
     "output_type": "execute_result"
    }
   ],
   "source": [
    "model.evaluate(test_scaled, test_target)"
   ]
  },
  {
   "cell_type": "code",
   "execution_count": 46,
   "id": "1fd3ffec",
   "metadata": {},
   "outputs": [
    {
     "data": {
      "image/png": "[encoded data removed]",
      "text/plain": [
       "<Figure size 432x288 with 1 Axes>"
      ]
     },
     "metadata": {
      "needs_background": "light"
     },
     "output_type": "display_data"
    }
   ],
   "source": [
    "plt.plot(history.history['loss'], c = 'r', label = 'train loss')\n",
    "plt.plot(history.history['val_loss'], c = 'b', label = 'validation loss')\n",
    "\n",
    "plt.legend()\n",
    "plt.show()"
   ]
  },
  {
   "cell_type": "code",
   "execution_count": 47,
   "id": "577dd097",
   "metadata": {
    "scrolled": true
   },
   "outputs": [
    {
     "name": "stdout",
     "output_type": "stream",
     "text": [
      "Epoch 1/40\n",
      "1500/1500 [==============================] - 1s 650us/step - loss: 0.5289 - accuracy: 0.8117 - val_loss: 0.4022 - val_accuracy: 0.8596\n",
      "Epoch 2/40\n",
      "1500/1500 [==============================] - 1s 588us/step - loss: 0.3953 - accuracy: 0.8581 - val_loss: 0.3683 - val_accuracy: 0.8673\n",
      "Epoch 3/40\n",
      "1500/1500 [==============================] - 1s 588us/step - loss: 0.3559 - accuracy: 0.8710 - val_loss: 0.3405 - val_accuracy: 0.8771\n",
      "Epoch 4/40\n",
      "1500/1500 [==============================] - 1s 589us/step - loss: 0.3293 - accuracy: 0.8791 - val_loss: 0.3253 - val_accuracy: 0.8806\n",
      "Epoch 5/40\n",
      "1500/1500 [==============================] - 1s 591us/step - loss: 0.3063 - accuracy: 0.8879 - val_loss: 0.3251 - val_accuracy: 0.8779\n",
      "Epoch 6/40\n",
      "1500/1500 [==============================] - 1s 591us/step - loss: 0.2942 - accuracy: 0.8915 - val_loss: 0.3215 - val_accuracy: 0.8808\n",
      "Epoch 7/40\n",
      "1500/1500 [==============================] - 1s 589us/step - loss: 0.2791 - accuracy: 0.8956 - val_loss: 0.3304 - val_accuracy: 0.8827\n",
      "Epoch 8/40\n",
      "1500/1500 [==============================] - 1s 591us/step - loss: 0.2692 - accuracy: 0.9001 - val_loss: 0.2980 - val_accuracy: 0.8879\n",
      "Epoch 9/40\n",
      "1500/1500 [==============================] - 1s 590us/step - loss: 0.2587 - accuracy: 0.9035 - val_loss: 0.2952 - val_accuracy: 0.8942\n",
      "Epoch 10/40\n",
      "1500/1500 [==============================] - 1s 592us/step - loss: 0.2480 - accuracy: 0.9063 - val_loss: 0.2982 - val_accuracy: 0.8907\n",
      "Epoch 11/40\n",
      "1500/1500 [==============================] - 1s 602us/step - loss: 0.2427 - accuracy: 0.9086 - val_loss: 0.3093 - val_accuracy: 0.8925\n",
      "Epoch 12/40\n",
      "1500/1500 [==============================] - 1s 610us/step - loss: 0.2343 - accuracy: 0.9132 - val_loss: 0.3263 - val_accuracy: 0.8819\n",
      "Epoch 13/40\n",
      "1500/1500 [==============================] - 1s 616us/step - loss: 0.2270 - accuracy: 0.9160 - val_loss: 0.3233 - val_accuracy: 0.8878\n",
      "Epoch 14/40\n",
      "1500/1500 [==============================] - 1s 592us/step - loss: 0.2211 - accuracy: 0.9175 - val_loss: 0.3102 - val_accuracy: 0.8901\n",
      "Epoch 15/40\n",
      "1500/1500 [==============================] - 1s 604us/step - loss: 0.2155 - accuracy: 0.9192 - val_loss: 0.2901 - val_accuracy: 0.8993\n",
      "Epoch 16/40\n",
      "1500/1500 [==============================] - 1s 609us/step - loss: 0.2080 - accuracy: 0.9225 - val_loss: 0.2894 - val_accuracy: 0.8984\n",
      "Epoch 17/40\n",
      "1500/1500 [==============================] - 1s 598us/step - loss: 0.2025 - accuracy: 0.9239 - val_loss: 0.3358 - val_accuracy: 0.8898\n",
      "Epoch 18/40\n",
      "1500/1500 [==============================] - 1s 598us/step - loss: 0.1978 - accuracy: 0.9261 - val_loss: 0.3146 - val_accuracy: 0.8938\n",
      "Epoch 19/40\n",
      "1500/1500 [==============================] - 1s 594us/step - loss: 0.1917 - accuracy: 0.9283 - val_loss: 0.3167 - val_accuracy: 0.8941\n",
      "Epoch 20/40\n",
      "1500/1500 [==============================] - 1s 608us/step - loss: 0.1845 - accuracy: 0.9305 - val_loss: 0.3209 - val_accuracy: 0.8935\n",
      "Epoch 21/40\n",
      "1500/1500 [==============================] - 1s 591us/step - loss: 0.1826 - accuracy: 0.9319 - val_loss: 0.3331 - val_accuracy: 0.8893\n",
      "Epoch 22/40\n",
      "1500/1500 [==============================] - 1s 592us/step - loss: 0.1758 - accuracy: 0.9338 - val_loss: 0.3367 - val_accuracy: 0.8925\n",
      "Epoch 23/40\n",
      "1500/1500 [==============================] - 1s 592us/step - loss: 0.1746 - accuracy: 0.9349 - val_loss: 0.3194 - val_accuracy: 0.8963\n",
      "Epoch 24/40\n",
      "1500/1500 [==============================] - 1s 592us/step - loss: 0.1717 - accuracy: 0.9366 - val_loss: 0.3216 - val_accuracy: 0.8982\n",
      "Epoch 25/40\n",
      "1500/1500 [==============================] - 1s 592us/step - loss: 0.1625 - accuracy: 0.9389 - val_loss: 0.3321 - val_accuracy: 0.8946\n",
      "Epoch 26/40\n",
      "1500/1500 [==============================] - 1s 592us/step - loss: 0.1588 - accuracy: 0.9398 - val_loss: 0.3341 - val_accuracy: 0.8957\n",
      "Epoch 27/40\n",
      "1500/1500 [==============================] - 1s 618us/step - loss: 0.1577 - accuracy: 0.9415 - val_loss: 0.3487 - val_accuracy: 0.8943\n",
      "Epoch 28/40\n",
      "1500/1500 [==============================] - 1s 608us/step - loss: 0.1539 - accuracy: 0.9428 - val_loss: 0.3507 - val_accuracy: 0.8907\n",
      "Epoch 29/40\n",
      "1500/1500 [==============================] - 1s 592us/step - loss: 0.1528 - accuracy: 0.9430 - val_loss: 0.3464 - val_accuracy: 0.8964\n",
      "Epoch 30/40\n",
      "1500/1500 [==============================] - 1s 593us/step - loss: 0.1484 - accuracy: 0.9441 - val_loss: 0.3563 - val_accuracy: 0.8973\n",
      "Epoch 31/40\n",
      "1500/1500 [==============================] - 1s 614us/step - loss: 0.1436 - accuracy: 0.9453 - val_loss: 0.3648 - val_accuracy: 0.8920\n",
      "Epoch 32/40\n",
      "1500/1500 [==============================] - 1s 610us/step - loss: 0.1411 - accuracy: 0.9475 - val_loss: 0.3613 - val_accuracy: 0.8947\n",
      "Epoch 33/40\n",
      "1500/1500 [==============================] - 1s 607us/step - loss: 0.1385 - accuracy: 0.9484 - val_loss: 0.3793 - val_accuracy: 0.8906\n",
      "Epoch 34/40\n",
      "1500/1500 [==============================] - 1s 607us/step - loss: 0.1378 - accuracy: 0.9482 - val_loss: 0.3632 - val_accuracy: 0.8942\n",
      "Epoch 35/40\n",
      "1500/1500 [==============================] - 1s 596us/step - loss: 0.1315 - accuracy: 0.9507 - val_loss: 0.3643 - val_accuracy: 0.8949\n",
      "Epoch 36/40\n",
      "1500/1500 [==============================] - 1s 597us/step - loss: 0.1307 - accuracy: 0.9516 - val_loss: 0.4030 - val_accuracy: 0.8896\n",
      "Epoch 37/40\n",
      "1500/1500 [==============================] - 1s 596us/step - loss: 0.1281 - accuracy: 0.9511 - val_loss: 0.4033 - val_accuracy: 0.8907\n",
      "Epoch 38/40\n",
      "1500/1500 [==============================] - 1s 597us/step - loss: 0.1258 - accuracy: 0.9526 - val_loss: 0.3886 - val_accuracy: 0.8946\n",
      "Epoch 39/40\n",
      "1500/1500 [==============================] - 1s 598us/step - loss: 0.1212 - accuracy: 0.9545 - val_loss: 0.3900 - val_accuracy: 0.8974\n",
      "Epoch 40/40\n",
      "1500/1500 [==============================] - 1s 606us/step - loss: 0.1182 - accuracy: 0.9543 - val_loss: 0.4163 - val_accuracy: 0.8863\n"
     ]
    }
   ],
   "source": [
    "model = model_fn()\n",
    "model.compile(loss = 'sparse_categorical_crossentropy',\n",
    "             optimizer = 'adam',\n",
    "             metrics = 'accuracy')\n",
    "history = model.fit(train_scaled, train_target, epochs = 40, validation_data=(val_scaled, val_target))"
   ]
  },
  {
   "cell_type": "code",
   "execution_count": 48,
   "id": "ef4b144c",
   "metadata": {},
   "outputs": [
    {
     "name": "stdout",
     "output_type": "stream",
     "text": [
      "313/313 [==============================] - 0s 609us/step - loss: 0.4846 - accuracy: 0.8749\n"
     ]
    },
    {
     "data": {
      "text/plain": [
       "[0.4846231937408447, 0.8748999834060669]"
      ]
     },
     "execution_count": 48,
     "metadata": {},
     "output_type": "execute_result"
    }
   ],
   "source": [
    "model.evaluate(test_scaled, test_target)"
   ]
  },
  {
   "cell_type": "code",
   "execution_count": 49,
   "id": "b69babdf",
   "metadata": {
    "scrolled": true
   },
   "outputs": [
    {
     "data": {
      "image/png": "[encoded data removed]",
      "text/plain": [
       "<Figure size 432x288 with 1 Axes>"
      ]
     },
     "metadata": {
      "needs_background": "light"
     },
     "output_type": "display_data"
    }
   ],
   "source": [
    "plt.plot(history.history['loss'], c = 'r', label = 'train loss')\n",
    "plt.plot(history.history['val_loss'], c = 'b', label = 'validation loss')\n",
    "\n",
    "plt.legend()\n",
    "plt.show()"
   ]
  },
  {
   "cell_type": "code",
   "execution_count": 53,
   "id": "a24455ea",
   "metadata": {},
   "outputs": [
    {
     "name": "stdout",
     "output_type": "stream",
     "text": [
      "Model: \"Dropout_layers\"\n",
      "_________________________________________________________________\n",
      "Layer (type)                 Output Shape              Param #   \n",
      "=================================================================\n",
      "flatten_8 (Flatten)          (None, 784)               0         \n",
      "_________________________________________________________________\n",
      "dense_21 (Dense)             (None, 100)               78500     \n",
      "_________________________________________________________________\n",
      "dropout (Dropout)            (None, 100)               0         \n",
      "_________________________________________________________________\n",
      "dense_22 (Dense)             (None, 10)                1010      \n",
      "=================================================================\n",
      "Total params: 79,510\n",
      "Trainable params: 79,510\n",
      "Non-trainable params: 0\n",
      "_________________________________________________________________\n"
     ]
    }
   ],
   "source": [
    "model = model_fn(keras.layers.Dropout(0.3), name = 'Dropout_layers')   # 30%의 노드를 죽임(learning 할 때만) -> 과적합을 예방할 수 있음\n",
    "\n",
    "model.summary()"
   ]
  },
  {
   "cell_type": "code",
   "execution_count": 54,
   "id": "a88b09d2",
   "metadata": {
    "scrolled": true
   },
   "outputs": [
    {
     "name": "stdout",
     "output_type": "stream",
     "text": [
      "Epoch 1/40\n",
      "1500/1500 [==============================] - 1s 677us/step - loss: 0.6004 - accuracy: 0.7871 - val_loss: 0.4148 - val_accuracy: 0.8508\n",
      "Epoch 2/40\n",
      "1500/1500 [==============================] - 1s 617us/step - loss: 0.4424 - accuracy: 0.8411 - val_loss: 0.3708 - val_accuracy: 0.8670\n",
      "Epoch 3/40\n",
      "1500/1500 [==============================] - 1s 617us/step - loss: 0.4083 - accuracy: 0.8502 - val_loss: 0.3681 - val_accuracy: 0.8645\n",
      "Epoch 4/40\n",
      "1500/1500 [==============================] - 1s 618us/step - loss: 0.3897 - accuracy: 0.8578 - val_loss: 0.3407 - val_accuracy: 0.8742\n",
      "Epoch 5/40\n",
      "1500/1500 [==============================] - 1s 618us/step - loss: 0.3698 - accuracy: 0.8647 - val_loss: 0.3321 - val_accuracy: 0.8796\n",
      "Epoch 6/40\n",
      "1500/1500 [==============================] - 1s 620us/step - loss: 0.3601 - accuracy: 0.8673 - val_loss: 0.3277 - val_accuracy: 0.8792\n",
      "Epoch 7/40\n",
      "1500/1500 [==============================] - 1s 618us/step - loss: 0.3462 - accuracy: 0.8724 - val_loss: 0.3157 - val_accuracy: 0.8857\n",
      "Epoch 8/40\n",
      "1500/1500 [==============================] - 1s 619us/step - loss: 0.3400 - accuracy: 0.8738 - val_loss: 0.3264 - val_accuracy: 0.8794\n",
      "Epoch 9/40\n",
      "1500/1500 [==============================] - 1s 617us/step - loss: 0.3290 - accuracy: 0.8780 - val_loss: 0.3193 - val_accuracy: 0.8807\n",
      "Epoch 10/40\n",
      "1500/1500 [==============================] - 1s 617us/step - loss: 0.3236 - accuracy: 0.8807 - val_loss: 0.3036 - val_accuracy: 0.8892\n",
      "Epoch 11/40\n",
      "1500/1500 [==============================] - 1s 619us/step - loss: 0.3176 - accuracy: 0.8819 - val_loss: 0.3160 - val_accuracy: 0.8831\n",
      "Epoch 12/40\n",
      "1500/1500 [==============================] - 1s 620us/step - loss: 0.3144 - accuracy: 0.8824 - val_loss: 0.3167 - val_accuracy: 0.8844\n",
      "Epoch 13/40\n",
      "1500/1500 [==============================] - 1s 632us/step - loss: 0.3098 - accuracy: 0.8842 - val_loss: 0.3114 - val_accuracy: 0.8899\n",
      "Epoch 14/40\n",
      "1500/1500 [==============================] - 1s 639us/step - loss: 0.3042 - accuracy: 0.8875 - val_loss: 0.3155 - val_accuracy: 0.8894\n",
      "Epoch 15/40\n",
      "1500/1500 [==============================] - 1s 623us/step - loss: 0.2980 - accuracy: 0.8879 - val_loss: 0.3063 - val_accuracy: 0.8918\n",
      "Epoch 16/40\n",
      "1500/1500 [==============================] - 1s 621us/step - loss: 0.2938 - accuracy: 0.8892 - val_loss: 0.3086 - val_accuracy: 0.8883\n",
      "Epoch 17/40\n",
      "1500/1500 [==============================] - 1s 622us/step - loss: 0.2908 - accuracy: 0.8897 - val_loss: 0.3043 - val_accuracy: 0.8887\n",
      "Epoch 18/40\n",
      "1500/1500 [==============================] - 1s 623us/step - loss: 0.2870 - accuracy: 0.8912 - val_loss: 0.3146 - val_accuracy: 0.8857\n",
      "Epoch 19/40\n",
      "1500/1500 [==============================] - 1s 621us/step - loss: 0.2809 - accuracy: 0.8938 - val_loss: 0.3111 - val_accuracy: 0.8892\n",
      "Epoch 20/40\n",
      "1500/1500 [==============================] - 1s 622us/step - loss: 0.2799 - accuracy: 0.8959 - val_loss: 0.3053 - val_accuracy: 0.8946\n",
      "Epoch 21/40\n",
      "1500/1500 [==============================] - 1s 623us/step - loss: 0.2754 - accuracy: 0.8948 - val_loss: 0.3060 - val_accuracy: 0.8920\n",
      "Epoch 22/40\n",
      "1500/1500 [==============================] - 1s 623us/step - loss: 0.2729 - accuracy: 0.8966 - val_loss: 0.3065 - val_accuracy: 0.8946\n",
      "Epoch 23/40\n",
      "1500/1500 [==============================] - 1s 635us/step - loss: 0.2715 - accuracy: 0.8958 - val_loss: 0.3135 - val_accuracy: 0.8924\n",
      "Epoch 24/40\n",
      "1500/1500 [==============================] - 1s 623us/step - loss: 0.2684 - accuracy: 0.8981 - val_loss: 0.3021 - val_accuracy: 0.8930\n",
      "Epoch 25/40\n",
      "1500/1500 [==============================] - 1s 622us/step - loss: 0.2651 - accuracy: 0.9003 - val_loss: 0.3229 - val_accuracy: 0.8886\n",
      "Epoch 26/40\n",
      "1500/1500 [==============================] - 1s 623us/step - loss: 0.2592 - accuracy: 0.9014 - val_loss: 0.3214 - val_accuracy: 0.8869\n",
      "Epoch 27/40\n",
      "1500/1500 [==============================] - 1s 645us/step - loss: 0.2600 - accuracy: 0.9011 - val_loss: 0.3147 - val_accuracy: 0.8926\n",
      "Epoch 28/40\n",
      "1500/1500 [==============================] - 1s 639us/step - loss: 0.2552 - accuracy: 0.9023 - val_loss: 0.3029 - val_accuracy: 0.8972\n",
      "Epoch 29/40\n",
      "1500/1500 [==============================] - 1s 625us/step - loss: 0.2544 - accuracy: 0.9024 - val_loss: 0.3160 - val_accuracy: 0.8912\n",
      "Epoch 30/40\n",
      "1500/1500 [==============================] - 1s 627us/step - loss: 0.2549 - accuracy: 0.9023 - val_loss: 0.3099 - val_accuracy: 0.8947\n",
      "Epoch 31/40\n",
      "1500/1500 [==============================] - 1s 626us/step - loss: 0.2504 - accuracy: 0.9035 - val_loss: 0.3240 - val_accuracy: 0.8947\n",
      "Epoch 32/40\n",
      "1500/1500 [==============================] - 1s 673us/step - loss: 0.2489 - accuracy: 0.9047 - val_loss: 0.3180 - val_accuracy: 0.8942\n",
      "Epoch 33/40\n",
      "1500/1500 [==============================] - 1s 638us/step - loss: 0.2479 - accuracy: 0.9047 - val_loss: 0.3146 - val_accuracy: 0.8940\n",
      "Epoch 34/40\n",
      "1500/1500 [==============================] - 1s 655us/step - loss: 0.2453 - accuracy: 0.9059 - val_loss: 0.3147 - val_accuracy: 0.8977\n",
      "Epoch 35/40\n",
      "1500/1500 [==============================] - 1s 643us/step - loss: 0.2443 - accuracy: 0.9072 - val_loss: 0.3191 - val_accuracy: 0.8922\n",
      "Epoch 36/40\n",
      "1500/1500 [==============================] - 1s 623us/step - loss: 0.2399 - accuracy: 0.9071 - val_loss: 0.3128 - val_accuracy: 0.8938\n",
      "Epoch 37/40\n",
      "1500/1500 [==============================] - 1s 653us/step - loss: 0.2397 - accuracy: 0.9070 - val_loss: 0.3208 - val_accuracy: 0.8963\n",
      "Epoch 38/40\n",
      "1500/1500 [==============================] - 1s 620us/step - loss: 0.2373 - accuracy: 0.9098 - val_loss: 0.3065 - val_accuracy: 0.8988\n",
      "Epoch 39/40\n",
      "1500/1500 [==============================] - 1s 633us/step - loss: 0.2324 - accuracy: 0.9106 - val_loss: 0.3271 - val_accuracy: 0.8911\n",
      "Epoch 40/40\n",
      "1500/1500 [==============================] - 1s 620us/step - loss: 0.2323 - accuracy: 0.9095 - val_loss: 0.3317 - val_accuracy: 0.8936\n"
     ]
    }
   ],
   "source": [
    "model.compile(loss = 'sparse_categorical_crossentropy',\n",
    "             optimizer = 'adam',\n",
    "             metrics = 'accuracy')\n",
    "history = model.fit(train_scaled, train_target, epochs = 40, validation_data=(val_scaled, val_target))"
   ]
  },
  {
   "cell_type": "code",
   "execution_count": 55,
   "id": "53b83596",
   "metadata": {},
   "outputs": [
    {
     "data": {
      "image/png": "[encoded data removed]",
      "text/plain": [
       "<Figure size 432x288 with 1 Axes>"
      ]
     },
     "metadata": {
      "needs_background": "light"
     },
     "output_type": "display_data"
    }
   ],
   "source": [
    "plt.plot(history.history['loss'], c = 'r', label = 'train loss')\n",
    "plt.plot(history.history['val_loss'], c = 'b', label = 'validation loss')\n",
    "\n",
    "plt.legend()\n",
    "plt.show()"
   ]
  }
 ],
 "metadata": {
  "kernelspec": {
   "display_name": "Python 3 (ipykernel)",
   "language": "python",
   "name": "python3"
  },
  "language_info": {
   "codemirror_mode": {
    "name": "ipython",
    "version": 3
   },
   "file_extension": ".py",
   "mimetype": "text/x-python",
   "name": "python",
   "nbconvert_exporter": "python",
   "pygments_lexer": "ipython3",
   "version": "3.7.11"
  }
 },
 "nbformat": 4,
 "nbformat_minor": 5
}
