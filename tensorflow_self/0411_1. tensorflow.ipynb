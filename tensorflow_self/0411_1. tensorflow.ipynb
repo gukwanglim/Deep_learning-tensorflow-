{
 "cells": [
  {
   "cell_type": "code",
   "execution_count": 1,
   "id": "4db49f95",
   "metadata": {},
   "outputs": [
    {
     "name": "stdout",
     "output_type": "stream",
     "text": [
      "3.9.7 (default, Sep 16 2021, 16:59:28) [MSC v.1916 64 bit (AMD64)]\n"
     ]
    }
   ],
   "source": [
    "import sys\n",
    "\n",
    "print(sys.version)"
   ]
  },
  {
   "cell_type": "code",
   "execution_count": 2,
   "id": "974751aa",
   "metadata": {
    "scrolled": true
   },
   "outputs": [
    {
     "name": "stdout",
     "output_type": "stream",
     "text": [
      "Requirement already satisfied: tensorflow in c:\\users\\kwang\\anaconda3\\lib\\site-packages (2.8.0)\n",
      "Requirement already satisfied: keras-preprocessing>=1.1.1 in c:\\users\\kwang\\anaconda3\\lib\\site-packages (from tensorflow) (1.1.2)\n",
      "Requirement already satisfied: h5py>=2.9.0 in c:\\users\\kwang\\anaconda3\\lib\\site-packages (from tensorflow) (3.2.1)\n",
      "Requirement already satisfied: wrapt>=1.11.0 in c:\\users\\kwang\\anaconda3\\lib\\site-packages (from tensorflow) (1.12.1)\n",
      "Requirement already satisfied: tf-estimator-nightly==2.8.0.dev2021122109 in c:\\users\\kwang\\anaconda3\\lib\\site-packages (from tensorflow) (2.8.0.dev2021122109)\n",
      "Requirement already satisfied: grpcio<2.0,>=1.24.3 in c:\\users\\kwang\\anaconda3\\lib\\site-packages (from tensorflow) (1.44.0)\n",
      "Requirement already satisfied: opt-einsum>=2.3.2 in c:\\users\\kwang\\anaconda3\\lib\\site-packages (from tensorflow) (3.3.0)\n",
      "Requirement already satisfied: tensorflow-io-gcs-filesystem>=0.23.1 in c:\\users\\kwang\\anaconda3\\lib\\site-packages (from tensorflow) (0.24.0)\n",
      "Requirement already satisfied: gast>=0.2.1 in c:\\users\\kwang\\anaconda3\\lib\\site-packages (from tensorflow) (0.5.3)\n",
      "Requirement already satisfied: keras<2.9,>=2.8.0rc0 in c:\\users\\kwang\\anaconda3\\lib\\site-packages (from tensorflow) (2.8.0)\n",
      "Requirement already satisfied: tensorboard<2.9,>=2.8 in c:\\users\\kwang\\anaconda3\\lib\\site-packages (from tensorflow) (2.8.0)\n",
      "Requirement already satisfied: absl-py>=0.4.0 in c:\\users\\kwang\\anaconda3\\lib\\site-packages (from tensorflow) (1.0.0)\n",
      "Requirement already satisfied: six>=1.12.0 in c:\\users\\kwang\\anaconda3\\lib\\site-packages (from tensorflow) (1.16.0)\n",
      "Requirement already satisfied: setuptools in c:\\users\\kwang\\anaconda3\\lib\\site-packages (from tensorflow) (58.0.4)\n",
      "Requirement already satisfied: libclang>=9.0.1 in c:\\users\\kwang\\anaconda3\\lib\\site-packages (from tensorflow) (13.0.0)\n",
      "Requirement already satisfied: numpy>=1.20 in c:\\users\\kwang\\anaconda3\\lib\\site-packages (from tensorflow) (1.20.3)\n",
      "Requirement already satisfied: google-pasta>=0.1.1 in c:\\users\\kwang\\anaconda3\\lib\\site-packages (from tensorflow) (0.2.0)\n",
      "Requirement already satisfied: protobuf>=3.9.2 in c:\\users\\kwang\\anaconda3\\lib\\site-packages (from tensorflow) (3.20.0)\n",
      "Requirement already satisfied: typing-extensions>=3.6.6 in c:\\users\\kwang\\anaconda3\\lib\\site-packages (from tensorflow) (3.10.0.2)\n",
      "Requirement already satisfied: flatbuffers>=1.12 in c:\\users\\kwang\\anaconda3\\lib\\site-packages (from tensorflow) (2.0)\n",
      "Requirement already satisfied: termcolor>=1.1.0 in c:\\users\\kwang\\anaconda3\\lib\\site-packages (from tensorflow) (1.1.0)\n",
      "Requirement already satisfied: astunparse>=1.6.0 in c:\\users\\kwang\\anaconda3\\lib\\site-packages (from tensorflow) (1.6.3)\n",
      "Requirement already satisfied: wheel<1.0,>=0.23.0 in c:\\users\\kwang\\anaconda3\\lib\\site-packages (from astunparse>=1.6.0->tensorflow) (0.37.0)\n",
      "Requirement already satisfied: google-auth<3,>=1.6.3 in c:\\users\\kwang\\anaconda3\\lib\\site-packages (from tensorboard<2.9,>=2.8->tensorflow) (2.6.3)\n",
      "Requirement already satisfied: requests<3,>=2.21.0 in c:\\users\\kwang\\anaconda3\\lib\\site-packages (from tensorboard<2.9,>=2.8->tensorflow) (2.26.0)\n",
      "Requirement already satisfied: tensorboard-plugin-wit>=1.6.0 in c:\\users\\kwang\\anaconda3\\lib\\site-packages (from tensorboard<2.9,>=2.8->tensorflow) (1.8.1)\n",
      "Requirement already satisfied: google-auth-oauthlib<0.5,>=0.4.1 in c:\\users\\kwang\\anaconda3\\lib\\site-packages (from tensorboard<2.9,>=2.8->tensorflow) (0.4.6)\n",
      "Requirement already satisfied: werkzeug>=0.11.15 in c:\\users\\kwang\\anaconda3\\lib\\site-packages (from tensorboard<2.9,>=2.8->tensorflow) (2.0.2)\n",
      "Requirement already satisfied: tensorboard-data-server<0.7.0,>=0.6.0 in c:\\users\\kwang\\anaconda3\\lib\\site-packages (from tensorboard<2.9,>=2.8->tensorflow) (0.6.1)\n",
      "Requirement already satisfied: markdown>=2.6.8 in c:\\users\\kwang\\anaconda3\\lib\\site-packages (from tensorboard<2.9,>=2.8->tensorflow) (3.3.6)\n",
      "Requirement already satisfied: cachetools<6.0,>=2.0.0 in c:\\users\\kwang\\anaconda3\\lib\\site-packages (from google-auth<3,>=1.6.3->tensorboard<2.9,>=2.8->tensorflow) (5.0.0)\n",
      "Requirement already satisfied: rsa<5,>=3.1.4 in c:\\users\\kwang\\anaconda3\\lib\\site-packages (from google-auth<3,>=1.6.3->tensorboard<2.9,>=2.8->tensorflow) (4.8)\n",
      "Requirement already satisfied: pyasn1-modules>=0.2.1 in c:\\users\\kwang\\anaconda3\\lib\\site-packages (from google-auth<3,>=1.6.3->tensorboard<2.9,>=2.8->tensorflow) (0.2.8)\n",
      "Requirement already satisfied: requests-oauthlib>=0.7.0 in c:\\users\\kwang\\anaconda3\\lib\\site-packages (from google-auth-oauthlib<0.5,>=0.4.1->tensorboard<2.9,>=2.8->tensorflow) (1.3.1)\n",
      "Requirement already satisfied: importlib-metadata>=4.4 in c:\\users\\kwang\\anaconda3\\lib\\site-packages (from markdown>=2.6.8->tensorboard<2.9,>=2.8->tensorflow) (4.8.1)\n",
      "Requirement already satisfied: zipp>=0.5 in c:\\users\\kwang\\anaconda3\\lib\\site-packages (from importlib-metadata>=4.4->markdown>=2.6.8->tensorboard<2.9,>=2.8->tensorflow) (3.6.0)\n",
      "Requirement already satisfied: pyasn1<0.5.0,>=0.4.6 in c:\\users\\kwang\\anaconda3\\lib\\site-packages (from pyasn1-modules>=0.2.1->google-auth<3,>=1.6.3->tensorboard<2.9,>=2.8->tensorflow) (0.4.8)\n",
      "Requirement already satisfied: urllib3<1.27,>=1.21.1 in c:\\users\\kwang\\anaconda3\\lib\\site-packages (from requests<3,>=2.21.0->tensorboard<2.9,>=2.8->tensorflow) (1.26.7)\n",
      "Requirement already satisfied: certifi>=2017.4.17 in c:\\users\\kwang\\anaconda3\\lib\\site-packages (from requests<3,>=2.21.0->tensorboard<2.9,>=2.8->tensorflow) (2021.10.8)\n",
      "Requirement already satisfied: charset-normalizer~=2.0.0 in c:\\users\\kwang\\anaconda3\\lib\\site-packages (from requests<3,>=2.21.0->tensorboard<2.9,>=2.8->tensorflow) (2.0.4)\n",
      "Requirement already satisfied: idna<4,>=2.5 in c:\\users\\kwang\\anaconda3\\lib\\site-packages (from requests<3,>=2.21.0->tensorboard<2.9,>=2.8->tensorflow) (3.2)\n",
      "Requirement already satisfied: oauthlib>=3.0.0 in c:\\users\\kwang\\anaconda3\\lib\\site-packages (from requests-oauthlib>=0.7.0->google-auth-oauthlib<0.5,>=0.4.1->tensorboard<2.9,>=2.8->tensorflow) (3.2.0)\n"
     ]
    }
   ],
   "source": [
    "! pip install tensorflow"
   ]
  },
  {
   "cell_type": "code",
   "execution_count": 2,
   "id": "407c2af0",
   "metadata": {},
   "outputs": [
    {
     "name": "stdout",
     "output_type": "stream",
     "text": [
      "2.8.0\n"
     ]
    }
   ],
   "source": [
    "import tensorflow as tf\n",
    "\n",
    "print(tf.__version__)"
   ]
  },
  {
   "cell_type": "code",
   "execution_count": 3,
   "id": "2dae08c1",
   "metadata": {
    "scrolled": true
   },
   "outputs": [
    {
     "data": {
      "text/plain": [
       "True"
      ]
     },
     "execution_count": 3,
     "metadata": {},
     "output_type": "execute_result"
    }
   ],
   "source": [
    "tf.executing_eagerly()"
   ]
  },
  {
   "cell_type": "code",
   "execution_count": 15,
   "id": "415435d7",
   "metadata": {},
   "outputs": [],
   "source": [
    "from tensorflow.keras.models import Sequential\n",
    "from tensorflow.keras.layers import Dense"
   ]
  },
  {
   "cell_type": "code",
   "execution_count": 5,
   "id": "455f0f49",
   "metadata": {},
   "outputs": [],
   "source": [
    "import numpy as np"
   ]
  },
  {
   "cell_type": "code",
   "execution_count": 6,
   "id": "dbbaf566",
   "metadata": {},
   "outputs": [
    {
     "data": {
      "text/plain": [
       "array([[293.  ,   1.  ,   3.8 , ...,   0.  ,  62.  ,   0.  ],\n",
       "       [  1.  ,   2.  ,   2.88, ...,   0.  ,  60.  ,   0.  ],\n",
       "       [  8.  ,   2.  ,   3.19, ...,   0.  ,  66.  ,   1.  ],\n",
       "       ...,\n",
       "       [406.  ,   6.  ,   5.36, ...,   0.  ,  62.  ,   0.  ],\n",
       "       [ 25.  ,   8.  ,   4.32, ...,   0.  ,  58.  ,   1.  ],\n",
       "       [447.  ,   8.  ,   5.2 , ...,   0.  ,  49.  ,   0.  ]])"
      ]
     },
     "execution_count": 6,
     "metadata": {},
     "output_type": "execute_result"
    }
   ],
   "source": [
    "data_set = np.loadtxt('../교재 코드/deeplearning-for-everyone-2nd-master/dataset/ThoraricSurgery.csv', delimiter=',')\n",
    "\n",
    "data_set"
   ]
  },
  {
   "cell_type": "code",
   "execution_count": 7,
   "id": "98447044",
   "metadata": {},
   "outputs": [
    {
     "name": "stdout",
     "output_type": "stream",
     "text": [
      "(470, 18)\n"
     ]
    },
    {
     "data": {
      "text/plain": [
       "numpy.ndarray"
      ]
     },
     "execution_count": 7,
     "metadata": {},
     "output_type": "execute_result"
    }
   ],
   "source": [
    "print(data_set.shape)\n",
    "type(data_set)"
   ]
  },
  {
   "cell_type": "code",
   "execution_count": 8,
   "id": "256f4ff4",
   "metadata": {
    "scrolled": true
   },
   "outputs": [
    {
     "data": {
      "text/plain": [
       "array([20.86666667,  4.78      ,  5.42722222,  6.83555556,  5.17166667,\n",
       "        5.47944444,  7.27555556,  7.15333333,  8.21722222, 10.53777778,\n",
       "       11.18888889, 12.60666667, 11.18      , 12.54666667, 16.03333333,\n",
       "       11.99111111, 12.42888889, 13.28444444, 14.29777778, 13.74444444,\n",
       "       13.97333333, 14.17111111, 14.48444444, 14.58666667, 15.70222222,\n",
       "       15.69555556, 15.96666667, 17.01222222, 16.67333333, 19.24      ,\n",
       "       19.71111111, 20.55555556, 21.08666667, 22.00888889, 22.84555556,\n",
       "       27.16333333, 23.72888889, 24.60222222, 23.74      , 22.93333333,\n",
       "       25.74833333, 26.12222222, 27.34944444, 26.9       , 27.48888889,\n",
       "       27.41555556, 27.53111111, 28.31333333, 28.48444444, 29.22666667,\n",
       "       29.29555556, 29.22888889, 30.72222222,  4.12666667,  4.65777778,\n",
       "        4.37333333,  5.68888889,  4.29777778,  5.20222222,  5.65555556,\n",
       "        4.74888889,  5.16      ,  5.31777778,  5.79777778,  6.24222222,\n",
       "        5.82444444,  6.18222222,  6.18666667,  5.33111111,  5.83555556,\n",
       "        5.94444444,  6.12888889,  6.74777778,  6.04722222,  6.31333333,\n",
       "        6.05111111,  6.845     ,  6.27555556,  7.23111111,  6.89555556,\n",
       "        6.51555556,  6.50666667,  7.50111111,  7.23555556,  6.97555556,\n",
       "        7.74666667,  7.98666667,  7.53111111,  7.13777778,  8.41555556,\n",
       "        8.04888889,  8.26222222,  7.93111111,  6.53333333,  8.28888889,\n",
       "        7.86444444,  7.54444444,  9.11555556,  7.92      ,  7.80888889,\n",
       "        7.91555556,  6.90888889,  8.49555556,  9.10444444,  8.12222222,\n",
       "        9.34444444,  8.74666667,  8.60444444,  8.01111111,  9.11777778,\n",
       "        9.20222222,  8.59111111, 10.01111111,  9.08666667,  9.14666667,\n",
       "        9.38222222,  9.34444444,  8.86444444,  9.36      ,  9.17166667,\n",
       "        9.90888889, 14.17944444, 10.36666667,  9.89333333,  9.44444444,\n",
       "       11.40666667,  9.73111111, 13.385     , 10.30666667, 10.89055556,\n",
       "       10.97111111, 10.22166667,  9.92888889, 10.25333333, 10.34444444,\n",
       "       10.67333333, 11.58888889, 10.86666667, 14.26555556, 10.50888889,\n",
       "       10.99111111, 10.83333333, 12.12      , 12.24      , 12.56444444,\n",
       "       12.21055556, 11.84666667, 12.5       , 12.06611111, 11.96888889,\n",
       "       12.07333333, 12.28888889, 11.75555556, 12.14      , 11.99111111,\n",
       "       13.41333333, 11.915     , 12.82888889, 13.33333333, 13.28444444,\n",
       "       13.74444444, 13.39333333, 12.60222222, 13.54      , 13.98666667,\n",
       "       14.30944444, 13.74222222, 13.60666667, 13.86666667, 13.46444444,\n",
       "       13.68888889, 13.27222222, 14.26666667, 13.23555556, 14.19333333,\n",
       "       13.63388889, 15.07166667, 13.63111111, 14.18888889, 14.49555556,\n",
       "       13.99777778, 14.30444444, 15.11333333, 14.21777778, 14.46444444,\n",
       "       14.20222222, 14.74222222, 14.86222222, 14.89777778, 14.97333333,\n",
       "       14.67555556, 14.53333333, 15.19277778, 15.64      , 15.17555556,\n",
       "       15.17111111, 15.01111111, 15.24      , 15.65777778, 16.11555556,\n",
       "       15.59      , 16.29111111, 15.58      , 15.16888889, 16.83444444,\n",
       "       16.11111111, 15.88      , 16.41777778, 16.80222222, 15.90444444,\n",
       "       16.40111111, 16.36444444, 16.58777778, 15.90444444, 17.78444444,\n",
       "       17.44888889, 17.16444444, 16.90055556, 17.20888889, 16.58      ,\n",
       "       17.57777778, 17.50444444, 17.28      , 17.76222222, 17.115     ,\n",
       "       18.00444444, 17.47777778, 18.01222222, 17.98888889, 18.61111111,\n",
       "       18.27111111, 18.05777778, 18.67333333, 18.50444444, 17.51555556,\n",
       "       18.12222222, 18.24777778, 18.18222222, 19.18666667, 19.09      ,\n",
       "       19.57111111, 18.93055556, 18.84888889, 18.94222222, 22.22333333,\n",
       "       18.59333333, 18.45777778, 18.9       , 18.78666667, 19.60055556,\n",
       "       19.72      , 19.09333333, 19.47333333, 19.35777778, 20.20222222,\n",
       "       19.90222222, 20.51333333, 20.36444444, 20.34666667, 20.53722222,\n",
       "       20.11444444, 20.39333333, 20.66666667, 19.95222222, 19.69111111,\n",
       "       20.29777778, 20.41555556, 20.87555556, 20.18      , 21.10444444,\n",
       "       20.78666667, 20.82444444, 21.54888889, 21.23777778, 21.94444444,\n",
       "       21.72222222, 21.59111111, 20.85111111, 21.14444444, 22.39111111,\n",
       "       21.07333333, 21.79333333, 21.29111111, 21.92277778, 22.14444444,\n",
       "       21.46888889, 22.19777778, 21.56222222, 21.73777778, 22.64166667,\n",
       "       22.05777778, 22.09111111, 22.58      , 22.06888889, 23.31111111,\n",
       "       22.46444444, 26.01111111, 22.17333333, 23.69055556, 22.72666667,\n",
       "       23.70666667, 23.46888889, 22.74666667, 23.20222222, 22.86222222,\n",
       "       23.4       , 23.75777778, 23.61555556, 23.44222222, 23.93333333,\n",
       "       24.34      , 23.74444444, 24.09777778, 24.14444444, 24.82222222,\n",
       "       24.63055556, 28.18      , 26.75222222, 24.43333333, 24.21555556,\n",
       "       24.23555556, 24.90888889, 24.69111111, 24.37333333, 24.06888889,\n",
       "       24.82222222, 24.76666667, 24.66888889, 24.99111111, 25.04222222,\n",
       "       25.10888889, 25.05777778, 24.78222222, 24.51777778, 25.47333333,\n",
       "       25.92      , 26.35555556, 25.56222222, 25.61333333, 25.99333333,\n",
       "       25.26444444, 25.38222222, 25.40444444, 25.92444444, 26.74888889,\n",
       "       26.38666667, 26.68666667, 27.17777778, 26.65111111, 24.32444444,\n",
       "       26.89111111, 27.03333333, 26.67111111, 27.35333333, 26.62      ,\n",
       "       26.92222222, 27.02      , 27.35111111, 27.155     , 27.6       ,\n",
       "       27.15777778, 27.97      , 27.71055556, 28.82444444, 27.58      ,\n",
       "       28.54666667, 28.33555556, 27.60611111, 28.08666667, 29.17555556,\n",
       "       28.62444444, 29.38888889, 28.69722222, 28.31333333, 28.95      ,\n",
       "       29.22222222, 28.57555556, 28.55555556, 28.78444444, 27.96      ,\n",
       "       28.72      , 29.46888889, 30.29555556, 31.85888889, 29.36      ,\n",
       "       29.95555556, 29.26222222, 30.55333333, 30.44666667, 30.56444444,\n",
       "       30.33333333, 30.03555556, 30.15333333, 29.31111111, 30.52444444,\n",
       "       30.91111111, 31.1       , 31.62444444, 30.54888889, 30.17333333,\n",
       "       31.70222222, 30.29333333,  5.95333333,  8.57111111,  8.09111111,\n",
       "        8.18888889,  8.61555556,  8.09888889, 10.95777778, 10.64888889,\n",
       "       11.42      , 11.25111111, 11.95111111, 11.05777778, 11.82555556,\n",
       "       13.18388889, 13.04666667, 15.16222222, 15.31333333, 16.39333333,\n",
       "       17.55111111, 17.38444444, 18.99333333, 18.79111111, 19.71777778,\n",
       "       20.72666667, 20.54777778, 21.96222222, 22.69333333, 22.56222222,\n",
       "       25.85166667, 23.71777778, 23.55555556, 23.99111111, 24.60555556,\n",
       "       28.95111111, 24.72      , 26.54222222, 26.47555556, 26.14      ,\n",
       "       27.06444444, 25.8       , 26.98444444, 28.80666667, 28.17333333,\n",
       "       29.74444444, 30.54666667, 30.135     , 30.47777778, 10.07555556,\n",
       "        7.19055556,  7.09888889,  6.65555556, 10.63555556, 10.55944444,\n",
       "       16.22666667, 16.88611111, 17.41111111, 17.74888889, 20.34222222,\n",
       "       22.42777778, 26.83888889, 28.45111111, 33.35944444,  6.45777778,\n",
       "       11.13555556, 26.31111111, 27.62888889,  6.14      , 29.18333333])"
      ]
     },
     "execution_count": 8,
     "metadata": {},
     "output_type": "execute_result"
    }
   ],
   "source": [
    "data_set[0]\n",
    "data_set[2]\n",
    "data_set[0:2]\n",
    "data_set[0:2, 0:6]\n",
    "\n",
    "np.mean(data_set, axis = 1)"
   ]
  },
  {
   "cell_type": "code",
   "execution_count": 11,
   "id": "728d1192",
   "metadata": {},
   "outputs": [
    {
     "data": {
      "image/png": "[encoded data removed]",
      "text/plain": [
       "<Figure size 432x288 with 1 Axes>"
      ]
     },
     "metadata": {
      "needs_background": "light"
     },
     "output_type": "display_data"
    }
   ],
   "source": [
    "import matplotlib.pyplot as plt\n",
    "\n",
    "plt.scatter(data_set[:, 2], data_set[:, -2])\n",
    "plt.show()"
   ]
  },
  {
   "cell_type": "code",
   "execution_count": 12,
   "id": "7e68b897",
   "metadata": {
    "scrolled": true
   },
   "outputs": [
    {
     "data": {
      "text/plain": [
       "array([0., 0., 1., 1., 0., 0., 0., 1., 0., 0., 0., 0., 0., 0., 1., 0., 0.,\n",
       "       0., 0., 0., 0., 0., 0., 0., 0., 0., 1., 0., 0., 1., 1., 0., 0., 0.,\n",
       "       0., 0., 1., 0., 0., 1., 0., 0., 0., 1., 0., 1., 0., 0., 1., 0., 0.,\n",
       "       0., 0., 0., 0., 0., 1., 0., 1., 0., 0., 0., 0., 0., 0., 0., 0., 0.,\n",
       "       0., 0., 0., 0., 1., 0., 1., 0., 0., 0., 0., 0., 0., 0., 0., 0., 0.,\n",
       "       0., 1., 0., 0., 0., 0., 0., 0., 0., 1., 0., 1., 0., 0., 0., 0., 0.,\n",
       "       0., 0., 0., 0., 0., 0., 1., 0., 1., 0., 0., 0., 0., 0., 0., 0., 0.,\n",
       "       0., 0., 0., 0., 1., 0., 0., 0., 0., 1., 0., 0., 0., 0., 0., 0., 0.,\n",
       "       0., 0., 0., 0., 0., 0., 0., 0., 0., 0., 0., 1., 0., 0., 0., 0., 1.,\n",
       "       0., 0., 0., 0., 0., 0., 0., 0., 0., 0., 1., 1., 0., 0., 0., 0., 0.,\n",
       "       0., 0., 0., 0., 0., 0., 0., 0., 1., 0., 1., 0., 1., 0., 0., 0., 0.,\n",
       "       0., 0., 0., 0., 0., 0., 0., 0., 1., 0., 0., 1., 1., 0., 0., 0., 0.,\n",
       "       0., 0., 0., 0., 0., 0., 1., 0., 1., 0., 0., 0., 0., 0., 0., 0., 0.,\n",
       "       1., 0., 1., 0., 0., 0., 0., 0., 0., 0., 1., 0., 0., 0., 0., 0., 0.,\n",
       "       0., 0., 1., 0., 0., 0., 0., 0., 0., 0., 0., 1., 0., 0., 0., 0., 0.,\n",
       "       0., 1., 0., 1., 0., 0., 0., 0., 0., 0., 0., 0., 0., 0., 0., 0., 0.,\n",
       "       0., 0., 0., 0., 0., 1., 1., 0., 0., 0., 0., 1., 0., 0., 1., 0., 0.,\n",
       "       0., 0., 1., 0., 0., 0., 0., 0., 0., 1., 0., 0., 0., 0., 0., 0., 0.,\n",
       "       0., 0., 0., 1., 0., 0., 0., 0., 1., 0., 0., 0., 0., 0., 0., 1., 0.,\n",
       "       0., 0., 1., 0., 0., 0., 0., 0., 0., 0., 0., 0., 0., 0., 0., 0., 0.,\n",
       "       0., 0., 0., 0., 0., 1., 0., 0., 0., 0., 0., 0., 0., 0., 0., 0., 0.,\n",
       "       0., 0., 0., 0., 0., 0., 0., 0., 0., 0., 0., 1., 0., 0., 0., 0., 0.,\n",
       "       0., 0., 0., 0., 0., 0., 0., 0., 0., 0., 0., 0., 1., 0., 0., 0., 0.,\n",
       "       0., 0., 0., 0., 0., 0., 0., 0., 0., 0., 0., 0., 0., 0., 0., 1., 0.,\n",
       "       0., 1., 0., 1., 0., 0., 0., 1., 1., 0., 0., 0., 0., 0., 0., 0., 0.,\n",
       "       0., 0., 0., 0., 0., 0., 0., 0., 0., 0., 0., 0., 0., 0., 0., 0., 0.,\n",
       "       0., 1., 0., 0., 0., 0., 1., 0., 0., 1., 1., 0., 0., 1., 1., 0., 1.,\n",
       "       0., 0., 1., 1., 0., 0., 0., 0., 0., 1., 0.])"
      ]
     },
     "execution_count": 12,
     "metadata": {},
     "output_type": "execute_result"
    }
   ],
   "source": [
    "x = data_set[:, :17]\n",
    "y = data_set[:, 17]\n",
    "\n",
    "y"
   ]
  },
  {
   "cell_type": "code",
   "execution_count": 13,
   "id": "e2fda811",
   "metadata": {},
   "outputs": [
    {
     "data": {
      "text/plain": [
       "array([[293.  ,   1.  ,   3.8 ,   2.8 ,   0.  ,   0.  ],\n",
       "       [  1.  ,   2.  ,   2.88,   2.16,   1.  ,   0.  ],\n",
       "       [  8.  ,   2.  ,   3.19,   2.5 ,   1.  ,   0.  ],\n",
       "       [ 14.  ,   2.  ,   3.98,   3.06,   2.  ,   0.  ],\n",
       "       [ 17.  ,   2.  ,   2.21,   1.88,   0.  ,   0.  ],\n",
       "       [ 18.  ,   2.  ,   2.96,   1.67,   0.  ,   0.  ],\n",
       "       [ 35.  ,   2.  ,   2.76,   2.2 ,   1.  ,   0.  ],\n",
       "       [ 42.  ,   2.  ,   3.24,   2.52,   1.  ,   0.  ],\n",
       "       [ 65.  ,   2.  ,   3.15,   2.76,   1.  ,   0.  ],\n",
       "       [111.  ,   2.  ,   4.48,   4.2 ,   0.  ,   0.  ]])"
      ]
     },
     "execution_count": 13,
     "metadata": {},
     "output_type": "execute_result"
    }
   ],
   "source": [
    "x[:10, :6]"
   ]
  },
  {
   "cell_type": "markdown",
   "id": "375d2df1",
   "metadata": {},
   "source": [
    "위 데이터가 인풋 데이터"
   ]
  },
  {
   "cell_type": "code",
   "execution_count": 17,
   "id": "5d324845",
   "metadata": {},
   "outputs": [
    {
     "name": "stdout",
     "output_type": "stream",
     "text": [
      "Model: \"sequential_1\"\n",
      "_________________________________________________________________\n",
      " Layer (type)                Output Shape              Param #   \n",
      "=================================================================\n",
      " dense_1 (Dense)             (None, 30)                540       \n",
      "                                                                 \n",
      " dense_2 (Dense)             (None, 1)                 31        \n",
      "                                                                 \n",
      "=================================================================\n",
      "Total params: 571\n",
      "Trainable params: 571\n",
      "Non-trainable params: 0\n",
      "_________________________________________________________________\n"
     ]
    }
   ],
   "source": [
    "from tensorflow import keras\n",
    "\n",
    "model = keras.Sequential()\n",
    "\n",
    "model.add(keras.layers.Dense(30, input_dim = 17, activation = 'relu'))                   \n",
    "# Dense 레이어 : 꽉 차있는 레이어,   30개의 노드, 17 개의 x, relu 함수       -> 히든 데이터\n",
    "\n",
    "model.add(keras.layers.Dense(1, activation = 'sigmoid'))\n",
    "\n",
    "model.summary()\n",
    "\n"
   ]
  },
  {
   "cell_type": "markdown",
   "id": "ab9a5ac9",
   "metadata": {},
   "source": [
    "- dense_1 (nod)에서 540개 인 이유는 17개의 input에서 30개의 노드(hidden)에 연결된 수 (17*30) + b(바이어스)의 수(히든의 수 30개) = 540\n",
    "\n",
    "- dense_2 (output)에서 31개 인 이유는 30개의 노드에서 연결된 수 + b(바이어스)의 수 = 31"
   ]
  },
  {
   "cell_type": "code",
   "execution_count": 18,
   "id": "aa7e68d3",
   "metadata": {},
   "outputs": [
    {
     "name": "stdout",
     "output_type": "stream",
     "text": [
      "Epoch 1/100\n",
      "10/10 [==============================] - 0s 1ms/step - loss: 4.4448 - accuracy: 0.6979\n",
      "Epoch 2/100\n",
      "10/10 [==============================] - 0s 1ms/step - loss: 3.5347 - accuracy: 0.6489\n",
      "Epoch 3/100\n",
      "10/10 [==============================] - 0s 1ms/step - loss: 2.8312 - accuracy: 0.6319\n",
      "Epoch 4/100\n",
      "10/10 [==============================] - 0s 1ms/step - loss: 2.0261 - accuracy: 0.6404\n",
      "Epoch 5/100\n",
      "10/10 [==============================] - 0s 1ms/step - loss: 1.1931 - accuracy: 0.6511\n",
      "Epoch 6/100\n",
      "10/10 [==============================] - 0s 1ms/step - loss: 0.5956 - accuracy: 0.7255\n",
      "Epoch 7/100\n",
      "10/10 [==============================] - 0s 2ms/step - loss: 0.4496 - accuracy: 0.8404\n",
      "Epoch 8/100\n",
      "10/10 [==============================] - 0s 1ms/step - loss: 0.4724 - accuracy: 0.8511\n",
      "Epoch 9/100\n",
      "10/10 [==============================] - 0s 1ms/step - loss: 0.4830 - accuracy: 0.8511\n",
      "Epoch 10/100\n",
      "10/10 [==============================] - 0s 1ms/step - loss: 0.4574 - accuracy: 0.8511\n",
      "Epoch 11/100\n",
      "10/10 [==============================] - 0s 1ms/step - loss: 0.4404 - accuracy: 0.8489\n",
      "Epoch 12/100\n",
      "10/10 [==============================] - 0s 1ms/step - loss: 0.4599 - accuracy: 0.8447\n",
      "Epoch 13/100\n",
      "10/10 [==============================] - 0s 1ms/step - loss: 0.5120 - accuracy: 0.8468\n",
      "Epoch 14/100\n",
      "10/10 [==============================] - 0s 1ms/step - loss: 0.4569 - accuracy: 0.8511\n",
      "Epoch 15/100\n",
      "10/10 [==============================] - 0s 1ms/step - loss: 0.4686 - accuracy: 0.8447\n",
      "Epoch 16/100\n",
      "10/10 [==============================] - 0s 1ms/step - loss: 0.4295 - accuracy: 0.8489\n",
      "Epoch 17/100\n",
      "10/10 [==============================] - 0s 1ms/step - loss: 0.4514 - accuracy: 0.8511\n",
      "Epoch 18/100\n",
      "10/10 [==============================] - 0s 1ms/step - loss: 0.4261 - accuracy: 0.8511\n",
      "Epoch 19/100\n",
      "10/10 [==============================] - 0s 1ms/step - loss: 0.4478 - accuracy: 0.8511\n",
      "Epoch 20/100\n",
      "10/10 [==============================] - 0s 1ms/step - loss: 0.4410 - accuracy: 0.8511\n",
      "Epoch 21/100\n",
      "10/10 [==============================] - 0s 1ms/step - loss: 0.4193 - accuracy: 0.8511\n",
      "Epoch 22/100\n",
      "10/10 [==============================] - 0s 1ms/step - loss: 0.4219 - accuracy: 0.8511\n",
      "Epoch 23/100\n",
      "10/10 [==============================] - 0s 1ms/step - loss: 0.4235 - accuracy: 0.8511\n",
      "Epoch 24/100\n",
      "10/10 [==============================] - 0s 1ms/step - loss: 0.4307 - accuracy: 0.8511\n",
      "Epoch 25/100\n",
      "10/10 [==============================] - 0s 1ms/step - loss: 0.4304 - accuracy: 0.8532\n",
      "Epoch 26/100\n",
      "10/10 [==============================] - 0s 1ms/step - loss: 0.4281 - accuracy: 0.8511\n",
      "Epoch 27/100\n",
      "10/10 [==============================] - 0s 1ms/step - loss: 0.4378 - accuracy: 0.8511\n",
      "Epoch 28/100\n",
      "10/10 [==============================] - 0s 1ms/step - loss: 0.4512 - accuracy: 0.8553\n",
      "Epoch 29/100\n",
      "10/10 [==============================] - 0s 2ms/step - loss: 0.4210 - accuracy: 0.8532\n",
      "Epoch 30/100\n",
      "10/10 [==============================] - 0s 1ms/step - loss: 0.4454 - accuracy: 0.8511\n",
      "Epoch 31/100\n",
      "10/10 [==============================] - 0s 2ms/step - loss: 0.4248 - accuracy: 0.8532\n",
      "Epoch 32/100\n",
      "10/10 [==============================] - 0s 1ms/step - loss: 0.4400 - accuracy: 0.8532\n",
      "Epoch 33/100\n",
      "10/10 [==============================] - 0s 2ms/step - loss: 0.4184 - accuracy: 0.8532\n",
      "Epoch 34/100\n",
      "10/10 [==============================] - 0s 2ms/step - loss: 0.4174 - accuracy: 0.8532\n",
      "Epoch 35/100\n",
      "10/10 [==============================] - 0s 1ms/step - loss: 0.4762 - accuracy: 0.8511\n",
      "Epoch 36/100\n",
      "10/10 [==============================] - 0s 2ms/step - loss: 0.4743 - accuracy: 0.8532\n",
      "Epoch 37/100\n",
      "10/10 [==============================] - 0s 1ms/step - loss: 0.4137 - accuracy: 0.8511\n",
      "Epoch 38/100\n",
      "10/10 [==============================] - 0s 2ms/step - loss: 0.4259 - accuracy: 0.8532\n",
      "Epoch 39/100\n",
      "10/10 [==============================] - 0s 2ms/step - loss: 0.4317 - accuracy: 0.8511\n",
      "Epoch 40/100\n",
      "10/10 [==============================] - 0s 1ms/step - loss: 0.4076 - accuracy: 0.8532\n",
      "Epoch 41/100\n",
      "10/10 [==============================] - 0s 2ms/step - loss: 0.4473 - accuracy: 0.8511\n",
      "Epoch 42/100\n",
      "10/10 [==============================] - 0s 1ms/step - loss: 0.4305 - accuracy: 0.8532\n",
      "Epoch 43/100\n",
      "10/10 [==============================] - 0s 2ms/step - loss: 0.4074 - accuracy: 0.8511\n",
      "Epoch 44/100\n",
      "10/10 [==============================] - 0s 2ms/step - loss: 0.4037 - accuracy: 0.8532\n",
      "Epoch 45/100\n",
      "10/10 [==============================] - 0s 1ms/step - loss: 0.4001 - accuracy: 0.8511\n",
      "Epoch 46/100\n",
      "10/10 [==============================] - 0s 2ms/step - loss: 0.4011 - accuracy: 0.8511\n",
      "Epoch 47/100\n",
      "10/10 [==============================] - 0s 2ms/step - loss: 0.4026 - accuracy: 0.8532\n",
      "Epoch 48/100\n",
      "10/10 [==============================] - 0s 2ms/step - loss: 0.4157 - accuracy: 0.8532\n",
      "Epoch 49/100\n",
      "10/10 [==============================] - 0s 2ms/step - loss: 0.3991 - accuracy: 0.8532\n",
      "Epoch 50/100\n",
      "10/10 [==============================] - 0s 2ms/step - loss: 0.4039 - accuracy: 0.8532\n",
      "Epoch 51/100\n",
      "10/10 [==============================] - 0s 2ms/step - loss: 0.4022 - accuracy: 0.8511\n",
      "Epoch 52/100\n",
      "10/10 [==============================] - 0s 2ms/step - loss: 0.4152 - accuracy: 0.8511\n",
      "Epoch 53/100\n",
      "10/10 [==============================] - 0s 1ms/step - loss: 0.4128 - accuracy: 0.8532\n",
      "Epoch 54/100\n",
      "10/10 [==============================] - 0s 2ms/step - loss: 0.4150 - accuracy: 0.8532\n",
      "Epoch 55/100\n",
      "10/10 [==============================] - 0s 1ms/step - loss: 0.4150 - accuracy: 0.8489\n",
      "Epoch 56/100\n",
      "10/10 [==============================] - 0s 1ms/step - loss: 0.4072 - accuracy: 0.8532\n",
      "Epoch 57/100\n",
      "10/10 [==============================] - 0s 1ms/step - loss: 0.4052 - accuracy: 0.8511\n",
      "Epoch 58/100\n",
      "10/10 [==============================] - 0s 1ms/step - loss: 0.3992 - accuracy: 0.8553\n",
      "Epoch 59/100\n",
      "10/10 [==============================] - 0s 1ms/step - loss: 0.4010 - accuracy: 0.8532\n",
      "Epoch 60/100\n",
      "10/10 [==============================] - 0s 1ms/step - loss: 0.4048 - accuracy: 0.8532\n",
      "Epoch 61/100\n",
      "10/10 [==============================] - 0s 1ms/step - loss: 0.4305 - accuracy: 0.8468\n",
      "Epoch 62/100\n",
      "10/10 [==============================] - 0s 1ms/step - loss: 0.4206 - accuracy: 0.8489\n",
      "Epoch 63/100\n",
      "10/10 [==============================] - 0s 1ms/step - loss: 0.4368 - accuracy: 0.8574\n",
      "Epoch 64/100\n",
      "10/10 [==============================] - 0s 2ms/step - loss: 0.4502 - accuracy: 0.8404\n",
      "Epoch 65/100\n",
      "10/10 [==============================] - 0s 1ms/step - loss: 0.4479 - accuracy: 0.8511\n",
      "Epoch 66/100\n",
      "10/10 [==============================] - 0s 1ms/step - loss: 0.4210 - accuracy: 0.8489\n",
      "Epoch 67/100\n",
      "10/10 [==============================] - 0s 1ms/step - loss: 0.3923 - accuracy: 0.8574\n",
      "Epoch 68/100\n",
      "10/10 [==============================] - 0s 1ms/step - loss: 0.3990 - accuracy: 0.8532\n",
      "Epoch 69/100\n",
      "10/10 [==============================] - 0s 1ms/step - loss: 0.3941 - accuracy: 0.8532\n",
      "Epoch 70/100\n",
      "10/10 [==============================] - 0s 1ms/step - loss: 0.4027 - accuracy: 0.8532\n",
      "Epoch 71/100\n",
      "10/10 [==============================] - 0s 1ms/step - loss: 0.4506 - accuracy: 0.8489\n",
      "Epoch 72/100\n",
      "10/10 [==============================] - 0s 1ms/step - loss: 0.4646 - accuracy: 0.8532\n",
      "Epoch 73/100\n",
      "10/10 [==============================] - 0s 1ms/step - loss: 0.4019 - accuracy: 0.8532\n",
      "Epoch 74/100\n",
      "10/10 [==============================] - 0s 1ms/step - loss: 0.4263 - accuracy: 0.8532\n",
      "Epoch 75/100\n",
      "10/10 [==============================] - 0s 1ms/step - loss: 0.4221 - accuracy: 0.8574\n",
      "Epoch 76/100\n",
      "10/10 [==============================] - 0s 1ms/step - loss: 0.3892 - accuracy: 0.8489\n",
      "Epoch 77/100\n",
      "10/10 [==============================] - 0s 1ms/step - loss: 0.4029 - accuracy: 0.8532\n",
      "Epoch 78/100\n",
      "10/10 [==============================] - 0s 1ms/step - loss: 0.3896 - accuracy: 0.8489\n",
      "Epoch 79/100\n",
      "10/10 [==============================] - 0s 2ms/step - loss: 0.3934 - accuracy: 0.8532\n",
      "Epoch 80/100\n",
      "10/10 [==============================] - 0s 2ms/step - loss: 0.3887 - accuracy: 0.8532\n",
      "Epoch 81/100\n",
      "10/10 [==============================] - 0s 1ms/step - loss: 0.3911 - accuracy: 0.8532\n",
      "Epoch 82/100\n",
      "10/10 [==============================] - 0s 1ms/step - loss: 0.4041 - accuracy: 0.8511\n",
      "Epoch 83/100\n"
     ]
    },
    {
     "name": "stdout",
     "output_type": "stream",
     "text": [
      "10/10 [==============================] - 0s 1ms/step - loss: 0.3915 - accuracy: 0.8532\n",
      "Epoch 84/100\n",
      "10/10 [==============================] - 0s 1ms/step - loss: 0.4198 - accuracy: 0.8574\n",
      "Epoch 85/100\n",
      "10/10 [==============================] - 0s 1ms/step - loss: 0.4315 - accuracy: 0.8532\n",
      "Epoch 86/100\n",
      "10/10 [==============================] - 0s 1ms/step - loss: 0.3972 - accuracy: 0.8489\n",
      "Epoch 87/100\n",
      "10/10 [==============================] - 0s 1ms/step - loss: 0.3911 - accuracy: 0.8511\n",
      "Epoch 88/100\n",
      "10/10 [==============================] - 0s 1ms/step - loss: 0.4048 - accuracy: 0.8553\n",
      "Epoch 89/100\n",
      "10/10 [==============================] - 0s 1ms/step - loss: 0.3954 - accuracy: 0.8596\n",
      "Epoch 90/100\n",
      "10/10 [==============================] - 0s 1ms/step - loss: 0.3999 - accuracy: 0.8489\n",
      "Epoch 91/100\n",
      "10/10 [==============================] - 0s 1ms/step - loss: 0.3900 - accuracy: 0.8532\n",
      "Epoch 92/100\n",
      "10/10 [==============================] - 0s 1ms/step - loss: 0.3961 - accuracy: 0.8511\n",
      "Epoch 93/100\n",
      "10/10 [==============================] - 0s 1ms/step - loss: 0.3924 - accuracy: 0.8511\n",
      "Epoch 94/100\n",
      "10/10 [==============================] - 0s 997us/step - loss: 0.3903 - accuracy: 0.8532\n",
      "Epoch 95/100\n",
      "10/10 [==============================] - 0s 1ms/step - loss: 0.3966 - accuracy: 0.8553\n",
      "Epoch 96/100\n",
      "10/10 [==============================] - 0s 1ms/step - loss: 0.3866 - accuracy: 0.8511\n",
      "Epoch 97/100\n",
      "10/10 [==============================] - 0s 1ms/step - loss: 0.3910 - accuracy: 0.8596\n",
      "Epoch 98/100\n",
      "10/10 [==============================] - 0s 1ms/step - loss: 0.3899 - accuracy: 0.8511\n",
      "Epoch 99/100\n",
      "10/10 [==============================] - 0s 1ms/step - loss: 0.3925 - accuracy: 0.8511\n",
      "Epoch 100/100\n",
      "10/10 [==============================] - 0s 1ms/step - loss: 0.3946 - accuracy: 0.8553\n"
     ]
    },
    {
     "data": {
      "text/plain": [
       "<keras.callbacks.History at 0x1c69a1b1fa0>"
      ]
     },
     "execution_count": 18,
     "metadata": {},
     "output_type": "execute_result"
    }
   ],
   "source": [
    "# parameter estimation, w, b\n",
    "\n",
    "model.compile(loss = 'binary_crossentropy',\n",
    "             optimizer = 'adam',\n",
    "             metrics = 'accuracy')\n",
    "\n",
    "model.fit(x, y, epochs = 100, batch_size = 50)"
   ]
  },
  {
   "cell_type": "markdown",
   "id": "979a17c0",
   "metadata": {},
   "source": [
    "85%를 구분할 수 있다."
   ]
  },
  {
   "cell_type": "markdown",
   "id": "5d047444",
   "metadata": {},
   "source": [
    "- activation : 다음 층으로 어떻게 값을 넘길지 결정하는 부분. rele()와 sigmoid() 함수를 가장 많이 사용.\n",
    "\n",
    "- loss : 한 번 신경망이 실행될 때마다 오차 값을 추적하는 함수.\n",
    "\n",
    "- optimizer : 오차를 어떻게 줄여 나갈지 정하는 함수."
   ]
  }
 ],
 "metadata": {
  "kernelspec": {
   "display_name": "Python 3 (ipykernel)",
   "language": "python",
   "name": "python3"
  },
  "language_info": {
   "codemirror_mode": {
    "name": "ipython",
    "version": 3
   },
   "file_extension": ".py",
   "mimetype": "text/x-python",
   "name": "python",
   "nbconvert_exporter": "python",
   "pygments_lexer": "ipython3",
   "version": "3.7.11"
  }
 },
 "nbformat": 4,
 "nbformat_minor": 5
}
