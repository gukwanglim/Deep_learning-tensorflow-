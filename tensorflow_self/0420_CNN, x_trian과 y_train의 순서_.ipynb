{
 "cells": [
  {
   "cell_type": "code",
   "execution_count": 1,
   "id": "301f6b8c",
   "metadata": {},
   "outputs": [],
   "source": [
    "import tensorflow as tf\n",
    "from tensorflow import keras\n",
    "\n",
    "import numpy as np\n",
    "import pandas as pd\n",
    "import matplotlib.pyplot as plt"
   ]
  },
  {
   "cell_type": "code",
   "execution_count": 2,
   "id": "da11c8af",
   "metadata": {},
   "outputs": [],
   "source": [
    "from sklearn.model_selection import train_test_split"
   ]
  },
  {
   "cell_type": "code",
   "execution_count": 30,
   "id": "dcb43cc9",
   "metadata": {},
   "outputs": [
    {
     "name": "stdout",
     "output_type": "stream",
     "text": [
      "(60000, 28, 28)\n",
      "(10000, 28, 28)\n"
     ]
    }
   ],
   "source": [
    "(train_input, train_target), (test_input, test_target) = \\\n",
    "keras.datasets.fashion_mnist.load_data()\n",
    "\n",
    "print(train_input.shape)\n",
    "print(test_input.shape)"
   ]
  },
  {
   "cell_type": "code",
   "execution_count": 31,
   "id": "4cbf235c",
   "metadata": {},
   "outputs": [],
   "source": [
    "train_scaled_pre = (train_input/255.0).reshape(-1, 28, 28, 1)       # 흑백 표시(1)\n",
    "test_scaled_pre = (test_input/255.0).reshape(-1, 28, 28, 1)"
   ]
  },
  {
   "cell_type": "code",
   "execution_count": 32,
   "id": "cbf31986",
   "metadata": {
    "scrolled": true
   },
   "outputs": [
    {
     "name": "stdout",
     "output_type": "stream",
     "text": [
      "(60000, 28, 28, 1)\n"
     ]
    }
   ],
   "source": [
    "print(train_scaled_pre.shape)"
   ]
  },
  {
   "cell_type": "code",
   "execution_count": 34,
   "id": "2e32cf63",
   "metadata": {},
   "outputs": [
    {
     "name": "stdout",
     "output_type": "stream",
     "text": [
      "(48000, 28, 28, 1)\n",
      "(12000, 28, 28, 1)\n"
     ]
    }
   ],
   "source": [
    "train_scaled, val_scaled, train_target, val_target = train_test_split(     # 잘못 설정됨\n",
    "train_scaled_pre, train_target, test_size = 0.2, random_state=1)           # train_test_split의 경우 train_scal, train_targe, val_scal, val_targe\n",
    "                                                                           # 의 순서로 들어가야 하는 것이 맞음\n",
    "print(train_scaled.shape)\n",
    "print(val_scaled.shape)"
   ]
  },
  {
   "cell_type": "code",
   "execution_count": 35,
   "id": "6e66b98c",
   "metadata": {},
   "outputs": [
    {
     "name": "stdout",
     "output_type": "stream",
     "text": [
      "Model: \"sequential_3\"\n",
      "_________________________________________________________________\n",
      "Layer (type)                 Output Shape              Param #   \n",
      "=================================================================\n",
      "conv2d_2 (Conv2D)            (None, 28, 28, 64)        640       \n",
      "_________________________________________________________________\n",
      "max_pooling2d_1 (MaxPooling2 (None, 14, 14, 64)        0         \n",
      "_________________________________________________________________\n",
      "flatten_1 (Flatten)          (None, 12544)             0         \n",
      "_________________________________________________________________\n",
      "dense_2 (Dense)              (None, 100)               1254500   \n",
      "_________________________________________________________________\n",
      "dense_3 (Dense)              (None, 10)                1010      \n",
      "=================================================================\n",
      "Total params: 1,256,150\n",
      "Trainable params: 1,256,150\n",
      "Non-trainable params: 0\n",
      "_________________________________________________________________\n"
     ]
    }
   ],
   "source": [
    "model = keras.Sequential()\n",
    "\n",
    "## conv1\n",
    "model.add(keras.layers.Conv2D(filters = 64, kernel_size = 3,                # 이미지를 CNN(도장)으로 찍어내기, 커널의 크기는 3x3\n",
    "                             activation = 'relu', padding = 'same',          # 총 64개의 layer로 만들기.\n",
    "                             strides = 1, input_shape = (28, 28, 1)))        # padding이 same일 경우 가장자리에 0, valid는 그대로\n",
    "model.add(keras.layers.MaxPool2D(pool_size = 2))                            # maxpool로 사이즈 한 번 더 줄이기\n",
    "##\n",
    "\n",
    "model.add(keras.layers.Flatten())                                           # 이미지 데이터 펼치기\n",
    "model.add(keras.layers.Dense(100, activation = 'relu'))                        # 딥러닝 돌리기\n",
    "model.add(keras.layers.Dense(10, activation = 'softmax'))\n",
    "\n",
    "model.summary()"
   ]
  },
  {
   "cell_type": "code",
   "execution_count": 36,
   "id": "f98f35be",
   "metadata": {},
   "outputs": [],
   "source": [
    "model.compile(loss = 'sparse_categorical_crossentropy',\n",
    "             optimizer = 'adam',\n",
    "             metrics = 'accuracy')"
   ]
  },
  {
   "cell_type": "code",
   "execution_count": 38,
   "id": "0509f32d",
   "metadata": {},
   "outputs": [
    {
     "name": "stdout",
     "output_type": "stream",
     "text": [
      "Epoch 1/10\n",
      "960/960 [==============================] - 18s 18ms/step - loss: 0.4081 - accuracy: 0.8566 - val_loss: 0.3098 - val_accuracy: 0.8877\n",
      "Epoch 2/10\n",
      "960/960 [==============================] - 18s 19ms/step - loss: 0.2717 - accuracy: 0.9015 - val_loss: 0.2757 - val_accuracy: 0.8961\n",
      "Epoch 3/10\n",
      "960/960 [==============================] - 18s 18ms/step - loss: 0.2229 - accuracy: 0.9183 - val_loss: 0.2512 - val_accuracy: 0.9088\n",
      "Epoch 4/10\n",
      "960/960 [==============================] - 18s 18ms/step - loss: 0.1924 - accuracy: 0.9294 - val_loss: 0.2612 - val_accuracy: 0.9057\n",
      "Epoch 5/10\n",
      "960/960 [==============================] - 18s 18ms/step - loss: 0.1630 - accuracy: 0.9393 - val_loss: 0.2528 - val_accuracy: 0.9111\n",
      "Epoch 6/10\n",
      "960/960 [==============================] - 18s 18ms/step - loss: 0.1389 - accuracy: 0.9495 - val_loss: 0.2482 - val_accuracy: 0.9122\n",
      "Epoch 7/10\n",
      "960/960 [==============================] - 18s 18ms/step - loss: 0.1184 - accuracy: 0.9563 - val_loss: 0.2588 - val_accuracy: 0.9122\n",
      "Epoch 8/10\n",
      "960/960 [==============================] - 17s 18ms/step - loss: 0.0993 - accuracy: 0.9638 - val_loss: 0.2982 - val_accuracy: 0.9105\n",
      "Epoch 9/10\n",
      "960/960 [==============================] - 18s 19ms/step - loss: 0.0836 - accuracy: 0.9695 - val_loss: 0.3025 - val_accuracy: 0.9127\n",
      "Epoch 10/10\n",
      "960/960 [==============================] - 18s 19ms/step - loss: 0.0704 - accuracy: 0.9746 - val_loss: 0.3059 - val_accuracy: 0.9154\n"
     ]
    }
   ],
   "source": [
    "history = model.fit(train_scaled, train_target, epochs = 10,            # 위의 설정이 잘못 되었지만 결과적으로 봤을 때 순서는 맞음\n",
    "                   validation_data=(val_scaled, val_target),          # 회귀의 경우 model.fit(x_train, y_train)의 순서로 들어가야 함\n",
    "                   batch_size = 50)                                   # 즉, model.fit(train_scaled, val_scaled)가 들어가는 것이 정상\n",
    "                                                                      # 하지만, 위에서 잘못 설정하고 여기서 순서를 제대로 맞춰 넣음"
   ]
  },
  {
   "cell_type": "code",
   "execution_count": 39,
   "id": "eb29e2ca",
   "metadata": {
    "scrolled": true
   },
   "outputs": [
    {
     "name": "stdout",
     "output_type": "stream",
     "text": [
      "Model: \"sequential_4\"\n",
      "_________________________________________________________________\n",
      "Layer (type)                 Output Shape              Param #   \n",
      "=================================================================\n",
      "conv2d_3 (Conv2D)            (None, 28, 28, 64)        640       \n",
      "_________________________________________________________________\n",
      "max_pooling2d_2 (MaxPooling2 (None, 14, 14, 64)        0         \n",
      "_________________________________________________________________\n",
      "conv2d_4 (Conv2D)            (None, 7, 7, 64)          36928     \n",
      "_________________________________________________________________\n",
      "max_pooling2d_3 (MaxPooling2 (None, 3, 3, 64)          0         \n",
      "_________________________________________________________________\n",
      "flatten_2 (Flatten)          (None, 576)               0         \n",
      "_________________________________________________________________\n",
      "dense_4 (Dense)              (None, 100)               57700     \n",
      "_________________________________________________________________\n",
      "dense_5 (Dense)              (None, 10)                1010      \n",
      "=================================================================\n",
      "Total params: 96,278\n",
      "Trainable params: 96,278\n",
      "Non-trainable params: 0\n",
      "_________________________________________________________________\n"
     ]
    }
   ],
   "source": [
    "model = keras.Sequential()\n",
    "\n",
    "## conv1\n",
    "model.add(keras.layers.Conv2D(filters = 64, kernel_size = 3,                # 이미지를 CNN(도장)으로 찍어내기\n",
    "                             activation = 'relu', padding = 'same',\n",
    "                             strides = 1, input_shape = (28, 28, 1)))\n",
    "model.add(keras.layers.MaxPool2D(pool_size = 2))                            # maxpool로 사이즈 한 번 더 줄이기\n",
    "##\n",
    "\n",
    "\n",
    "## conv2\n",
    "model.add(keras.layers.Conv2D(filters = 64, kernel_size = 3,\n",
    "                             activation = 'relu', padding = 'same',\n",
    "                             strides = 2))\n",
    "model.add(keras.layers.MaxPool2D(pool_size = 2))\n",
    "##\n",
    "\n",
    "\n",
    "model.add(keras.layers.Flatten())                                           # 이미지 데이터 펼치기\n",
    "model.add(keras.layers.Dense(100, activation = 'relu'))                        # 딥러닝 돌리기\n",
    "model.add(keras.layers.Dense(10, activation = 'softmax'))\n",
    "\n",
    "model.summary()"
   ]
  },
  {
   "cell_type": "markdown",
   "id": "2cb2b52b",
   "metadata": {},
   "source": [
    "- <span style = 'color:blue'>Conv2D</span> : keras.layers 아래에 위치하며 CNN을 실행시키기 위한 함수.(CNN)\n",
    "    - filters : 몇 개의 layer를 출력할 것인가\n",
    "    - kernel_size : 커널(도장)의 크기는 몇 by 몇 으로 정할 것인가\n",
    "    - paddig : same일 경우, 가장자리에 0을 대입. valid일 경우, 이미지 파일 그대로 사용.\n",
    "    - strides : 커널의 가로, 세로를 몇 칸씩 이동시킬 것인가\n",
    "    - input_shape : 맨 처음 층에 입력되는 값. (행, 열, 색상 또는 흑백)\n",
    "\n",
    "- <span style = 'color:blue'>MaxPool2D</span> : 가장 높은 값으로 선정하는 것인데 대부분 Conv2D 다음에 사용\n",
    "\n",
    "- <span style = 'color:blue'>Flatten</span> : CNN 완료한 이미지를 펼쳐서 Dense를 사용할 수 있도록 만들기."
   ]
  },
  {
   "cell_type": "code",
   "execution_count": 40,
   "id": "5d1f2bfd",
   "metadata": {},
   "outputs": [
    {
     "name": "stdout",
     "output_type": "stream",
     "text": [
      "Collecting pydot\n",
      "  Downloading pydot-1.4.2-py2.py3-none-any.whl (21 kB)\n",
      "Requirement already satisfied: pyparsing>=2.1.4 in c:\\users\\ygl\\anaconda3\\lib\\site-packages (from pydot) (3.0.4)\n",
      "Installing collected packages: pydot\n",
      "Successfully installed pydot-1.4.2\n",
      "Collecting graphviz\n",
      "  Downloading graphviz-0.20-py3-none-any.whl (46 kB)\n",
      "Installing collected packages: graphviz\n",
      "Successfully installed graphviz-0.20\n"
     ]
    }
   ],
   "source": [
    "# !pip install pydot\n",
    "# !pip install graphviz"
   ]
  },
  {
   "cell_type": "code",
   "execution_count": 41,
   "id": "2b4c9ab4",
   "metadata": {},
   "outputs": [
    {
     "name": "stdout",
     "output_type": "stream",
     "text": [
      "('Failed to import pydot. You must `pip install pydot` and install graphviz (https://graphviz.gitlab.io/download/), ', 'for `pydotprint` to work.')\n"
     ]
    }
   ],
   "source": [
    "keras.utils.plot_model(model, show_shapes = True,\n",
    "                      to_file = 'cnn.png', dpi = 300)"
   ]
  },
  {
   "cell_type": "code",
   "execution_count": 42,
   "id": "1b84303f",
   "metadata": {},
   "outputs": [],
   "source": [
    "model.compile(loss = 'sparse_categorical_crossentropy',\n",
    "             optimizer = 'adam',\n",
    "             metrics = 'accuracy')\n",
    "\n",
    "checkpoint = keras.callbacks.ModelCheckpoint('./model/best_cnn_model.h5')\n",
    "early_stopping = keras.callbacks.EarlyStopping(patience = 5, monitor = 'val_loss')"
   ]
  },
  {
   "cell_type": "code",
   "execution_count": 43,
   "id": "29968d06",
   "metadata": {
    "scrolled": true
   },
   "outputs": [
    {
     "name": "stdout",
     "output_type": "stream",
     "text": [
      "Epoch 1/10\n",
      "960/960 [==============================] - 18s 18ms/step - loss: 0.5345 - accuracy: 0.8074 - val_loss: 0.3884 - val_accuracy: 0.8576\n",
      "Epoch 2/10\n",
      "960/960 [==============================] - 18s 18ms/step - loss: 0.3512 - accuracy: 0.8728 - val_loss: 0.3333 - val_accuracy: 0.8807\n",
      "Epoch 3/10\n",
      "960/960 [==============================] - 17s 18ms/step - loss: 0.3039 - accuracy: 0.8890 - val_loss: 0.3013 - val_accuracy: 0.8860\n",
      "Epoch 4/10\n",
      "960/960 [==============================] - 17s 18ms/step - loss: 0.2680 - accuracy: 0.9022 - val_loss: 0.2789 - val_accuracy: 0.9010\n",
      "Epoch 5/10\n",
      "960/960 [==============================] - 18s 18ms/step - loss: 0.2430 - accuracy: 0.9104 - val_loss: 0.2515 - val_accuracy: 0.9095\n",
      "Epoch 6/10\n",
      "960/960 [==============================] - 18s 18ms/step - loss: 0.2241 - accuracy: 0.9165 - val_loss: 0.2502 - val_accuracy: 0.9066\n",
      "Epoch 7/10\n",
      "960/960 [==============================] - 18s 19ms/step - loss: 0.2079 - accuracy: 0.9234 - val_loss: 0.2441 - val_accuracy: 0.9097\n",
      "Epoch 8/10\n",
      "960/960 [==============================] - 18s 18ms/step - loss: 0.1916 - accuracy: 0.9290 - val_loss: 0.2439 - val_accuracy: 0.9120\n",
      "Epoch 9/10\n",
      "960/960 [==============================] - 18s 18ms/step - loss: 0.1775 - accuracy: 0.9341 - val_loss: 0.2418 - val_accuracy: 0.9114\n",
      "Epoch 10/10\n",
      "960/960 [==============================] - 18s 18ms/step - loss: 0.1626 - accuracy: 0.9400 - val_loss: 0.2696 - val_accuracy: 0.9071\n"
     ]
    }
   ],
   "source": [
    "history = model.fit(train_scaled, train_target, epochs = 10,\n",
    "                   validation_data=(val_scaled, val_target),\n",
    "                   batch_size = 50, callbacks = [checkpoint, early_stopping])"
   ]
  },
  {
   "cell_type": "markdown",
   "id": "3025aaa3",
   "metadata": {},
   "source": [
    "<span style = 'color:blue'>교재 235p</span>"
   ]
  },
  {
   "cell_type": "code",
   "execution_count": 3,
   "id": "ba637fdc",
   "metadata": {},
   "outputs": [
    {
     "name": "stdout",
     "output_type": "stream",
     "text": [
      "(60000, 28, 28)\n",
      "(10000, 28, 28)\n"
     ]
    }
   ],
   "source": [
    "(x_train, y_train), (x_test, y_test) = keras.datasets.mnist.load_data()\n",
    "\n",
    "print(x_train.shape)\n",
    "print(x_test.shape)"
   ]
  },
  {
   "cell_type": "code",
   "execution_count": 4,
   "id": "8732c84a",
   "metadata": {},
   "outputs": [
    {
     "name": "stdout",
     "output_type": "stream",
     "text": [
      "(60000, 28, 28, 1)\n",
      "float64\n",
      "\n",
      "(10000,)\n",
      "(10000, 28, 28, 1)\n",
      "uint8\n",
      "\n"
     ]
    }
   ],
   "source": [
    "x_train = (x_train/255.0).reshape(-1, 28, 28, 1)         # 255.0으로 나눈 이유는 팩셀의 밝기에 따라 0~255까지 책정된 등급을 0~1사이\n",
    "x_test = (x_test/255.0).reshape(-1, 28, 28, 1)           # 값으로 바꿔야하기 때문에(데이터 정규화)\n",
    "                                                              # 때문에 데이터의 값이 float가 되어야 한다.\n",
    "print(x_train.shape)                                     # 또한, 정규화 데이터를 0,1의 값으로만 분류해야 하기 때문에 one-hot이 필요\n",
    "print(x_train.dtype); print()\n",
    "                                                  # 교재에서는 np_utils.to_categorical() 함수를 사용해 y 데이터를 바로 one-hot 시킴\n",
    "print(y_test.shape)\n",
    "print(x_test.shape)\n",
    "\n",
    "print(y_train.dtype); print()\n"
   ]
  },
  {
   "cell_type": "code",
   "execution_count": 5,
   "id": "a3ea03f1",
   "metadata": {},
   "outputs": [
    {
     "name": "stdout",
     "output_type": "stream",
     "text": [
      "Model: \"sequential\"\n",
      "_________________________________________________________________\n",
      "Layer (type)                 Output Shape              Param #   \n",
      "=================================================================\n",
      "conv2d (Conv2D)              (None, 26, 26, 32)        320       \n",
      "_________________________________________________________________\n",
      "conv2d_1 (Conv2D)            (None, 24, 24, 64)        18496     \n",
      "_________________________________________________________________\n",
      "max_pooling2d (MaxPooling2D) (None, 12, 12, 64)        0         \n",
      "_________________________________________________________________\n",
      "flatten (Flatten)            (None, 9216)              0         \n",
      "_________________________________________________________________\n",
      "dense (Dense)                (None, 128)               1179776   \n",
      "_________________________________________________________________\n",
      "dropout (Dropout)            (None, 128)               0         \n",
      "_________________________________________________________________\n",
      "dense_1 (Dense)              (None, 10)                1290      \n",
      "=================================================================\n",
      "Total params: 1,199,882\n",
      "Trainable params: 1,199,882\n",
      "Non-trainable params: 0\n",
      "_________________________________________________________________\n"
     ]
    }
   ],
   "source": [
    "model = keras.Sequential()\n",
    "model.add(keras.layers.Conv2D(32, kernel_size = 3, activation = 'relu',\n",
    "                             input_shape = (28, 28, 1)))\n",
    "model.add(keras.layers.Conv2D(64, kernel_size = 3, activation = 'relu'))\n",
    "model.add(keras.layers.MaxPool2D(pool_size = 2))\n",
    "model.add(keras.layers.Flatten())\n",
    "model.add(keras.layers.Dense(128, activation = 'relu'))\n",
    "model.add(keras.layers.Dropout(0.3))\n",
    "model.add(keras.layers.Dense(10, activation = 'softmax'))\n",
    "\n",
    "model.summary()"
   ]
  },
  {
   "cell_type": "code",
   "execution_count": 6,
   "id": "ccf59a67",
   "metadata": {},
   "outputs": [],
   "source": [
    "model.compile(loss = 'sparse_categorical_crossentropy',\n",
    "             optimizer = 'adam',\n",
    "             metrics = 'accuracy')"
   ]
  },
  {
   "cell_type": "code",
   "execution_count": 7,
   "id": "6f081a58",
   "metadata": {
    "scrolled": true
   },
   "outputs": [
    {
     "name": "stdout",
     "output_type": "stream",
     "text": [
      "Epoch 1/30\n",
      "300/300 [==============================] - 34s 113ms/step - loss: 0.2258 - accuracy: 0.9326 - val_loss: 0.0458 - val_accuracy: 0.9850\n",
      "Epoch 2/30\n",
      "300/300 [==============================] - 35s 116ms/step - loss: 0.0597 - accuracy: 0.9819 - val_loss: 0.0386 - val_accuracy: 0.9875\n",
      "Epoch 3/30\n",
      "300/300 [==============================] - 35s 117ms/step - loss: 0.0421 - accuracy: 0.9864 - val_loss: 0.0298 - val_accuracy: 0.9895\n",
      "Epoch 4/30\n",
      "300/300 [==============================] - 35s 116ms/step - loss: 0.0324 - accuracy: 0.9896 - val_loss: 0.0349 - val_accuracy: 0.9888\n",
      "Epoch 5/30\n",
      "300/300 [==============================] - 35s 116ms/step - loss: 0.0254 - accuracy: 0.9921 - val_loss: 0.0275 - val_accuracy: 0.9910\n",
      "Epoch 6/30\n",
      "300/300 [==============================] - 35s 116ms/step - loss: 0.0213 - accuracy: 0.9927 - val_loss: 0.0287 - val_accuracy: 0.9913\n",
      "Epoch 7/30\n",
      "300/300 [==============================] - 37s 124ms/step - loss: 0.0186 - accuracy: 0.9938 - val_loss: 0.0269 - val_accuracy: 0.9917\n",
      "Epoch 8/30\n",
      "300/300 [==============================] - 37s 122ms/step - loss: 0.0156 - accuracy: 0.9946 - val_loss: 0.0333 - val_accuracy: 0.9903\n",
      "Epoch 9/30\n",
      "300/300 [==============================] - 36s 120ms/step - loss: 0.0130 - accuracy: 0.9956 - val_loss: 0.0308 - val_accuracy: 0.9915\n",
      "Epoch 10/30\n",
      "300/300 [==============================] - 36s 118ms/step - loss: 0.0115 - accuracy: 0.9961 - val_loss: 0.0368 - val_accuracy: 0.9909\n",
      "Epoch 11/30\n",
      "300/300 [==============================] - 35s 118ms/step - loss: 0.0112 - accuracy: 0.9962 - val_loss: 0.0315 - val_accuracy: 0.9909\n",
      "Epoch 12/30\n",
      "300/300 [==============================] - 35s 117ms/step - loss: 0.0095 - accuracy: 0.9968 - val_loss: 0.0308 - val_accuracy: 0.9914\n"
     ]
    }
   ],
   "source": [
    "checkpoint = keras.callbacks.ModelCheckpoint('./model/best_mnist_model.h5')\n",
    "early_stopping = keras.callbacks.EarlyStopping(patience=5)\n",
    "\n",
    "history = model.fit(x_train, y_train, validation_data=(x_test, y_test),\n",
    "                   epochs = 30, batch_size = 200,\n",
    "                   callbacks = [checkpoint, early_stopping],\n",
    "                   verbose = 1)"
   ]
  },
  {
   "cell_type": "code",
   "execution_count": null,
   "id": "97b3bc6c",
   "metadata": {},
   "outputs": [],
   "source": []
  },
  {
   "cell_type": "code",
   "execution_count": null,
   "id": "3e7978b6",
   "metadata": {},
   "outputs": [],
   "source": []
  },
  {
   "cell_type": "markdown",
   "id": "23f9bf0f",
   "metadata": {},
   "source": [
    "- <span style = 'color:blue'>Conv2D</span> : keras.layers 아래에 위치하며 CNN을 실행시키기 위한 함수.(CNN)\n",
    "    - filters : 몇 개의 layer를 출력할 것인가\n",
    "    - kernel_size : 커널(도장)의 크기는 몇 by 몇 으로 정할 것인가\n",
    "    - paddig : same일 경우, 가장자리에 0을 대입. valid일 경우, 이미지 파일 그대로 사용.\n",
    "    - strides : 커널의 가로, 세로를 몇 칸씩 이동시킬 것인가\n",
    "    - input_shape : 맨 처음 층에 입력되는 값. (행, 열, 색상 또는 흑백)\n",
    "\n",
    "- <span style = 'color:blue'>MaxPool2D</span> : 가장 높은 값으로 선정하는 것인데 대부분 Conv2D 다음에 사용\n",
    "\n",
    "- <span style = 'color:blue'>Flatten</span> : CNN 완료한 이미지를 펼쳐서 Dense를 사용할 수 있도록 만들기."
   ]
  },
  {
   "cell_type": "markdown",
   "id": "07cd8b81",
   "metadata": {},
   "source": [
    "- <span style = 'color:blue'>train_test_split_</span> 의 경우\n",
    "\n",
    "     x_train, x_target, y_train, y_target 의 순서로 적는다."
   ]
  },
  {
   "cell_type": "markdown",
   "id": "4336150e",
   "metadata": {},
   "source": [
    "- <span style = 'color:blue'>keras.datasets.OOOO.load_data()</span> 의 경우\n",
    "    \n",
    "    (x_train, y_train), (x_test, y_test) 의 순서로 적는다."
   ]
  }
 ],
 "metadata": {
  "kernelspec": {
   "display_name": "Python 3 (ipykernel)",
   "language": "python",
   "name": "python3"
  },
  "language_info": {
   "codemirror_mode": {
    "name": "ipython",
    "version": 3
   },
   "file_extension": ".py",
   "mimetype": "text/x-python",
   "name": "python",
   "nbconvert_exporter": "python",
   "pygments_lexer": "ipython3",
   "version": "3.9.7"
  }
 },
 "nbformat": 4,
 "nbformat_minor": 5
}
