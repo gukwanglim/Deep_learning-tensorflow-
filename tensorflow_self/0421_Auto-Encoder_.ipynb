{
 "cells": [
  {
   "cell_type": "code",
   "execution_count": 1,
   "id": "bde9a0d3",
   "metadata": {},
   "outputs": [],
   "source": [
    "import tensorflow as tf\n",
    "from tensorflow import keras\n",
    "\n",
    "import numpy as np\n",
    "import matplotlib.pyplot as plt"
   ]
  },
  {
   "cell_type": "code",
   "execution_count": 2,
   "id": "5fe49ac9",
   "metadata": {},
   "outputs": [
    {
     "name": "stdout",
     "output_type": "stream",
     "text": [
      "(60000, 28, 28)\n",
      "(10000, 28, 28)\n"
     ]
    }
   ],
   "source": [
    "(x_train, _), (x_test, _) = keras.datasets.mnist.load_data()\n",
    "\n",
    "print(x_train.shape)\n",
    "print(x_test.shape)"
   ]
  },
  {
   "cell_type": "code",
   "execution_count": 3,
   "id": "9820b16a",
   "metadata": {},
   "outputs": [
    {
     "name": "stdout",
     "output_type": "stream",
     "text": [
      "(60000, 28, 28, 1)\n",
      "(10000, 28, 28, 1)\n"
     ]
    }
   ],
   "source": [
    "train_scaled = (x_train/255.0).reshape(-1, 28, 28, 1)\n",
    "test_scaled = (x_test/255.0).reshape(-1, 28, 28, 1) \n",
    "\n",
    "print(train_scaled.shape)\n",
    "print(test_scaled.shape)"
   ]
  },
  {
   "cell_type": "code",
   "execution_count": 5,
   "id": "ff1eea8b",
   "metadata": {
    "scrolled": true
   },
   "outputs": [
    {
     "name": "stdout",
     "output_type": "stream",
     "text": [
      "Model: \"sequential_1\"\n",
      "_________________________________________________________________\n",
      " Layer (type)                Output Shape              Param #   \n",
      "=================================================================\n",
      " conv2d_7 (Conv2D)           (None, 28, 28, 16)        160       \n",
      "                                                                 \n",
      " max_pooling2d_2 (MaxPooling  (None, 14, 14, 16)       0         \n",
      " 2D)                                                             \n",
      "                                                                 \n",
      " conv2d_8 (Conv2D)           (None, 14, 14, 8)         1160      \n",
      "                                                                 \n",
      " max_pooling2d_3 (MaxPooling  (None, 7, 7, 8)          0         \n",
      " 2D)                                                             \n",
      "                                                                 \n",
      " conv2d_9 (Conv2D)           (None, 4, 4, 8)           584       \n",
      "                                                                 \n",
      " conv2d_10 (Conv2D)          (None, 4, 4, 8)           584       \n",
      "                                                                 \n",
      " up_sampling2d_3 (UpSampling  (None, 8, 8, 8)          0         \n",
      " 2D)                                                             \n",
      "                                                                 \n",
      " conv2d_11 (Conv2D)          (None, 8, 8, 8)           584       \n",
      "                                                                 \n",
      " up_sampling2d_4 (UpSampling  (None, 16, 16, 8)        0         \n",
      " 2D)                                                             \n",
      "                                                                 \n",
      " conv2d_12 (Conv2D)          (None, 14, 14, 16)        1168      \n",
      "                                                                 \n",
      " up_sampling2d_5 (UpSampling  (None, 28, 28, 16)       0         \n",
      " 2D)                                                             \n",
      "                                                                 \n",
      " conv2d_13 (Conv2D)          (None, 28, 28, 1)         145       \n",
      "                                                                 \n",
      "=================================================================\n",
      "Total params: 4,385\n",
      "Trainable params: 4,385\n",
      "Non-trainable params: 0\n",
      "_________________________________________________________________\n"
     ]
    }
   ],
   "source": [
    "autoencoder = keras.Sequential()\n",
    "\n",
    "## 인코딩 만들기\n",
    "autoencoder.add(keras.layers.Conv2D(16, kernel_size = 3, padding = 'same',\n",
    "                                   input_shape = (28, 28, 1), activation = 'relu'))\n",
    "autoencoder.add(keras.layers.MaxPooling2D(pool_size=2, padding='same'))\n",
    "autoencoder.add(keras.layers.Conv2D(8, kernel_size=3, activation='relu', padding='same'))\n",
    "autoencoder.add(keras.layers.MaxPooling2D(pool_size=2, padding='same'))\n",
    "autoencoder.add(keras.layers.Conv2D(8, kernel_size=3, strides=2, padding='same', activation = 'relu'))\n",
    "                                                  # strides : 커널의 가로, 세로를 몇 칸씩 이동시킬 것인가\n",
    "## 디코딩 부분\n",
    "autoencoder.add(keras.layers.Conv2D(8, kernel_size=3, padding='same', activation='relu'))\n",
    "autoencoder.add(keras.layers.UpSampling2D())\n",
    "autoencoder.add(keras.layers.Conv2D(8, kernel_size=3, padding='same', activation='relu'))\n",
    "autoencoder.add(keras.layers.UpSampling2D())\n",
    "autoencoder.add(keras.layers.Conv2D(16, kernel_size=3, activation='relu', name = 'no padding'))\n",
    "autoencoder.add(keras.layers.UpSampling2D())\n",
    "autoencoder.add(keras.layers.Conv2D(1, kernel_size=3, padding='same', activation = 'sigmoid'))\n",
    "\n",
    "## 전체구조 확인\n",
    "autoencoder.summary()"
   ]
  },
  {
   "cell_type": "markdown",
   "id": "acb67e00",
   "metadata": {},
   "source": [
    "- 인코딩으로 차원을 축소시킨 후, 다시 차원을 점차 늘려 입력값과 똑같은 크기의 출력값을 내보내는 디코딩을 진행\n",
    "\n",
    "- 인코딩의 마지막 부분이 (4, 4, 8)로 끝나는 이유는 strides=2로 설정하여 커널이 한 번에 2칸을 이동하기 때문\n",
    "\n",
    "- 인코딩의 마지막이 (4, 4, 8)이 되면서 마지막을 (28, 28)로 만들 수 없기 때문에 디코딩의 3번째 Conv2D에는 padding을 사용하지 않고 행열의 크기를 맞춤."
   ]
  },
  {
   "cell_type": "code",
   "execution_count": 7,
   "id": "47a3032f",
   "metadata": {
    "scrolled": true
   },
   "outputs": [
    {
     "name": "stdout",
     "output_type": "stream",
     "text": [
      "Epoch 1/50\n",
      "469/469 [==============================] - 40s 84ms/step - loss: 0.1989 - accuracy: 0.7982 - val_loss: 0.1332 - val_accuracy: 0.8025\n",
      "Epoch 2/50\n",
      "469/469 [==============================] - 40s 85ms/step - loss: 0.1228 - accuracy: 0.8069 - val_loss: 0.1141 - val_accuracy: 0.8077\n",
      "Epoch 3/50\n",
      "469/469 [==============================] - 40s 84ms/step - loss: 0.1108 - accuracy: 0.8098 - val_loss: 0.1058 - val_accuracy: 0.8101\n",
      "Epoch 4/50\n",
      "469/469 [==============================] - 41s 87ms/step - loss: 0.1049 - accuracy: 0.8111 - val_loss: 0.1018 - val_accuracy: 0.8109\n",
      "Epoch 5/50\n",
      "469/469 [==============================] - 41s 87ms/step - loss: 0.1014 - accuracy: 0.8118 - val_loss: 0.0989 - val_accuracy: 0.8114\n",
      "Epoch 6/50\n",
      "469/469 [==============================] - 41s 87ms/step - loss: 0.0989 - accuracy: 0.8122 - val_loss: 0.0966 - val_accuracy: 0.8112\n",
      "Epoch 7/50\n",
      "469/469 [==============================] - 40s 86ms/step - loss: 0.0969 - accuracy: 0.8125 - val_loss: 0.0946 - val_accuracy: 0.8119\n",
      "Epoch 8/50\n",
      "469/469 [==============================] - 41s 88ms/step - loss: 0.0951 - accuracy: 0.8128 - val_loss: 0.0931 - val_accuracy: 0.8120\n",
      "Epoch 9/50\n",
      "469/469 [==============================] - 41s 87ms/step - loss: 0.0937 - accuracy: 0.8130 - val_loss: 0.0920 - val_accuracy: 0.8121\n",
      "Epoch 10/50\n",
      "469/469 [==============================] - 41s 87ms/step - loss: 0.0926 - accuracy: 0.8132 - val_loss: 0.0909 - val_accuracy: 0.8121\n",
      "Epoch 11/50\n",
      "469/469 [==============================] - 41s 87ms/step - loss: 0.0915 - accuracy: 0.8134 - val_loss: 0.0904 - val_accuracy: 0.8121\n",
      "Epoch 12/50\n",
      "469/469 [==============================] - 40s 86ms/step - loss: 0.0906 - accuracy: 0.8135 - val_loss: 0.0889 - val_accuracy: 0.8127\n",
      "Epoch 13/50\n",
      "469/469 [==============================] - 44s 93ms/step - loss: 0.0897 - accuracy: 0.8136 - val_loss: 0.0882 - val_accuracy: 0.8128\n",
      "Epoch 14/50\n",
      "469/469 [==============================] - 42s 89ms/step - loss: 0.0890 - accuracy: 0.8137 - val_loss: 0.0879 - val_accuracy: 0.8125\n",
      "Epoch 15/50\n",
      "469/469 [==============================] - 41s 87ms/step - loss: 0.0884 - accuracy: 0.8138 - val_loss: 0.0870 - val_accuracy: 0.8128\n",
      "Epoch 16/50\n",
      "469/469 [==============================] - 40s 86ms/step - loss: 0.0878 - accuracy: 0.8139 - val_loss: 0.0867 - val_accuracy: 0.8131\n",
      "Epoch 17/50\n",
      "469/469 [==============================] - 41s 86ms/step - loss: 0.0873 - accuracy: 0.8139 - val_loss: 0.0861 - val_accuracy: 0.8131\n",
      "Epoch 18/50\n",
      "469/469 [==============================] - 41s 87ms/step - loss: 0.0869 - accuracy: 0.8140 - val_loss: 0.0856 - val_accuracy: 0.8129\n",
      "Epoch 19/50\n",
      "469/469 [==============================] - 41s 88ms/step - loss: 0.0865 - accuracy: 0.8140 - val_loss: 0.0854 - val_accuracy: 0.8130\n",
      "Epoch 20/50\n",
      "469/469 [==============================] - 41s 87ms/step - loss: 0.0861 - accuracy: 0.8141 - val_loss: 0.0851 - val_accuracy: 0.8133\n",
      "Epoch 21/50\n",
      "469/469 [==============================] - 40s 86ms/step - loss: 0.0857 - accuracy: 0.8141 - val_loss: 0.0845 - val_accuracy: 0.8132\n",
      "Epoch 22/50\n",
      "469/469 [==============================] - 41s 88ms/step - loss: 0.0854 - accuracy: 0.8142 - val_loss: 0.0842 - val_accuracy: 0.8132\n",
      "Epoch 23/50\n",
      "469/469 [==============================] - 41s 88ms/step - loss: 0.0851 - accuracy: 0.8142 - val_loss: 0.0839 - val_accuracy: 0.8134\n",
      "Epoch 24/50\n",
      "469/469 [==============================] - 41s 88ms/step - loss: 0.0848 - accuracy: 0.8142 - val_loss: 0.0836 - val_accuracy: 0.8132\n",
      "Epoch 25/50\n",
      "469/469 [==============================] - 42s 89ms/step - loss: 0.0846 - accuracy: 0.8143 - val_loss: 0.0835 - val_accuracy: 0.8134\n",
      "Epoch 26/50\n",
      "469/469 [==============================] - 41s 88ms/step - loss: 0.0843 - accuracy: 0.8143 - val_loss: 0.0833 - val_accuracy: 0.8135\n",
      "Epoch 27/50\n",
      "469/469 [==============================] - 42s 89ms/step - loss: 0.0840 - accuracy: 0.8143 - val_loss: 0.0831 - val_accuracy: 0.8134\n",
      "Epoch 28/50\n",
      "469/469 [==============================] - 42s 89ms/step - loss: 0.0839 - accuracy: 0.8143 - val_loss: 0.0830 - val_accuracy: 0.8135\n",
      "Epoch 29/50\n",
      "469/469 [==============================] - 41s 88ms/step - loss: 0.0837 - accuracy: 0.8144 - val_loss: 0.0828 - val_accuracy: 0.8133\n",
      "Epoch 30/50\n",
      "469/469 [==============================] - 41s 88ms/step - loss: 0.0835 - accuracy: 0.8144 - val_loss: 0.0825 - val_accuracy: 0.8133\n",
      "Epoch 31/50\n",
      "469/469 [==============================] - 41s 88ms/step - loss: 0.0833 - accuracy: 0.8144 - val_loss: 0.0825 - val_accuracy: 0.8136\n",
      "Epoch 32/50\n",
      "469/469 [==============================] - 41s 88ms/step - loss: 0.0831 - accuracy: 0.8144 - val_loss: 0.0827 - val_accuracy: 0.8133\n",
      "Epoch 33/50\n",
      "469/469 [==============================] - 42s 90ms/step - loss: 0.0830 - accuracy: 0.8144 - val_loss: 0.0819 - val_accuracy: 0.8135\n",
      "Epoch 34/50\n",
      "469/469 [==============================] - 42s 90ms/step - loss: 0.0828 - accuracy: 0.8144 - val_loss: 0.0818 - val_accuracy: 0.8136\n",
      "Epoch 35/50\n",
      "469/469 [==============================] - 42s 90ms/step - loss: 0.0827 - accuracy: 0.8145 - val_loss: 0.0815 - val_accuracy: 0.8135\n",
      "Epoch 36/50\n",
      "469/469 [==============================] - 42s 89ms/step - loss: 0.0825 - accuracy: 0.8145 - val_loss: 0.0815 - val_accuracy: 0.8136\n",
      "Epoch 37/50\n",
      "469/469 [==============================] - 42s 90ms/step - loss: 0.0824 - accuracy: 0.8145 - val_loss: 0.0820 - val_accuracy: 0.8133\n",
      "Epoch 38/50\n",
      "469/469 [==============================] - 42s 89ms/step - loss: 0.0823 - accuracy: 0.8145 - val_loss: 0.0812 - val_accuracy: 0.8136\n",
      "Epoch 39/50\n",
      "469/469 [==============================] - 42s 89ms/step - loss: 0.0822 - accuracy: 0.8145 - val_loss: 0.0812 - val_accuracy: 0.8135\n",
      "Epoch 40/50\n",
      "469/469 [==============================] - 45s 96ms/step - loss: 0.0821 - accuracy: 0.8145 - val_loss: 0.0811 - val_accuracy: 0.8137\n",
      "Epoch 41/50\n",
      "469/469 [==============================] - 45s 96ms/step - loss: 0.0819 - accuracy: 0.8145 - val_loss: 0.0810 - val_accuracy: 0.8135\n",
      "Epoch 42/50\n",
      "469/469 [==============================] - 44s 95ms/step - loss: 0.0819 - accuracy: 0.8145 - val_loss: 0.0812 - val_accuracy: 0.8137\n",
      "Epoch 43/50\n",
      "469/469 [==============================] - 45s 95ms/step - loss: 0.0818 - accuracy: 0.8145 - val_loss: 0.0807 - val_accuracy: 0.8137\n",
      "Epoch 44/50\n",
      "469/469 [==============================] - 45s 95ms/step - loss: 0.0816 - accuracy: 0.8146 - val_loss: 0.0806 - val_accuracy: 0.8136\n",
      "Epoch 45/50\n",
      "469/469 [==============================] - 45s 95ms/step - loss: 0.0816 - accuracy: 0.8146 - val_loss: 0.0805 - val_accuracy: 0.8136\n",
      "Epoch 46/50\n",
      "469/469 [==============================] - 45s 97ms/step - loss: 0.0815 - accuracy: 0.8146 - val_loss: 0.0806 - val_accuracy: 0.8137\n",
      "Epoch 47/50\n",
      "469/469 [==============================] - 48s 101ms/step - loss: 0.0814 - accuracy: 0.8146 - val_loss: 0.0805 - val_accuracy: 0.8137\n",
      "Epoch 48/50\n",
      "469/469 [==============================] - 47s 101ms/step - loss: 0.0813 - accuracy: 0.8146 - val_loss: 0.0803 - val_accuracy: 0.8136\n",
      "Epoch 49/50\n",
      "469/469 [==============================] - 47s 101ms/step - loss: 0.0812 - accuracy: 0.8146 - val_loss: 0.0806 - val_accuracy: 0.8135\n",
      "Epoch 50/50\n",
      "469/469 [==============================] - 48s 102ms/step - loss: 0.0812 - accuracy: 0.8146 - val_loss: 0.0801 - val_accuracy: 0.8137\n"
     ]
    }
   ],
   "source": [
    "autoencoder.compile(loss = 'binary_crossentropy',\n",
    "                   optimizer = 'adam',\n",
    "                   metrics = 'accuracy')\n",
    "\n",
    "history = autoencoder.fit(train_scaled, train_scaled, epochs = 50, batch_size = 128,\n",
    "                         validation_data=(test_scaled, test_scaled))"
   ]
  },
  {
   "cell_type": "code",
   "execution_count": 9,
   "id": "6ae3fcbc",
   "metadata": {},
   "outputs": [
    {
     "data": {
      "image/png": "[encoded data removed]",
      "text/plain": [
       "<Figure size 504x144 with 10 Axes>"
      ]
     },
     "metadata": {
      "needs_background": "light"
     },
     "output_type": "display_data"
    }
   ],
   "source": [
    "## 학습된 결과를 출력\n",
    "\n",
    "random_test = np.random.randint(test_scaled.shape[0], size = 5)\n",
    "\n",
    "## 테스트할 이미지를 랜덤으로 호출\n",
    "\n",
    "ae_imgs = autoencoder.predict(test_scaled)                       # 앞서 만든 오터인코더에 모델 넣기\n",
    "\n",
    "plt.figure(figsize = (7, 2))\n",
    "\n",
    "for i, imge_idx in enumerate(random_test):\n",
    "    ax = plt.subplot(2, 7, i+1)\n",
    "    \n",
    "    plt.imshow(test_scaled[imge_idx].reshape(28, 28))\n",
    "    ax.axis('off')\n",
    "    ax = plt.subplot(2, 7, 7+i+1)\n",
    "    plt.imshow(ae_imgs[imge_idx].reshape(28, 28))\n",
    "    ax.axis('off')\n",
    "plt.show()"
   ]
  },
  {
   "cell_type": "code",
   "execution_count": null,
   "id": "c622979f",
   "metadata": {},
   "outputs": [],
   "source": []
  },
  {
   "cell_type": "code",
   "execution_count": null,
   "id": "f530f324",
   "metadata": {},
   "outputs": [],
   "source": []
  },
  {
   "cell_type": "code",
   "execution_count": null,
   "id": "dfb8619e",
   "metadata": {},
   "outputs": [],
   "source": []
  },
  {
   "cell_type": "code",
   "execution_count": null,
   "id": "39ae8b52",
   "metadata": {},
   "outputs": [],
   "source": []
  },
  {
   "cell_type": "code",
   "execution_count": null,
   "id": "d2845906",
   "metadata": {},
   "outputs": [],
   "source": []
  }
 ],
 "metadata": {
  "kernelspec": {
   "display_name": "Python 3 (ipykernel)",
   "language": "python",
   "name": "python3"
  },
  "language_info": {
   "codemirror_mode": {
    "name": "ipython",
    "version": 3
   },
   "file_extension": ".py",
   "mimetype": "text/x-python",
   "name": "python",
   "nbconvert_exporter": "python",
   "pygments_lexer": "ipython3",
   "version": "3.9.7"
  }
 },
 "nbformat": 4,
 "nbformat_minor": 5
}
